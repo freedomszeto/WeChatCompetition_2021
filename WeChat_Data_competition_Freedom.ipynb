{
  "nbformat": 4,
  "nbformat_minor": 0,
  "metadata": {
    "colab": {
      "name": "WeChat Data competition_Freedom.ipynb",
      "provenance": [],
      "collapsed_sections": [
        "60SdYXAms9_O",
        "YRMiQE6iVovg",
        "wt2wVBFSeRJr",
        "y3bTCABRdr3b"
      ],
      "toc_visible": true,
      "include_colab_link": true
    },
    "kernelspec": {
      "name": "python3",
      "display_name": "Python 3"
    },
    "language_info": {
      "name": "python"
    }
  },
  "cells": [
    {
      "cell_type": "markdown",
      "metadata": {
        "id": "view-in-github",
        "colab_type": "text"
      },
      "source": [
        "<a href=\"https://colab.research.google.com/github/freedomszeto/WeChatCompetition_2021/blob/main/WeChat_Data_competition_Freedom.ipynb\" target=\"_parent\"><img src=\"https://colab.research.google.com/assets/colab-badge.svg\" alt=\"Open In Colab\"/></a>"
      ]
    },
    {
      "cell_type": "markdown",
      "metadata": {
        "id": "60SdYXAms9_O"
      },
      "source": [
        "# **Import Data**"
      ]
    },
    {
      "cell_type": "code",
      "metadata": {
        "id": "aKp9fQxvHrnj",
        "colab": {
          "base_uri": "https://localhost:8080/"
        },
        "outputId": "62a6cb51-5e0e-4dc0-e80a-2c37472f7b02"
      },
      "source": [
        "from google.colab import drive\n",
        "drive.mount('/content/drive')"
      ],
      "execution_count": 16,
      "outputs": [
        {
          "output_type": "stream",
          "text": [
            "Drive already mounted at /content/drive; to attempt to forcibly remount, call drive.mount(\"/content/drive\", force_remount=True).\n"
          ],
          "name": "stdout"
        }
      ]
    },
    {
      "cell_type": "code",
      "metadata": {
        "id": "wyuovaLyOR3P"
      },
      "source": [
        "data_path='/content/drive/MyDrive/WeChat_Data_Competition'"
      ],
      "execution_count": 17,
      "outputs": []
    },
    {
      "cell_type": "code",
      "metadata": {
        "id": "7yam-DlTKzNc",
        "colab": {
          "base_uri": "https://localhost:8080/"
        },
        "outputId": "82d9cd35-f6b6-4383-cfe1-0d0b4df1c2ce"
      },
      "source": [
        "from os import listdir\n",
        "filenames =listdir(data_path)\n",
        "\n",
        "import numpy as np\n",
        "import pandas as pd\n",
        "\n",
        "for i in np.arange(len(filenames)):\n",
        "    if filenames[i][-3:]=='csv':\n",
        "        vars()['df_'+filenames[i][:-4]] = pd.read_csv(data_path+'/'+filenames[i])\n",
        "        print('df_'+filenames[i][:-4]+':'+str(len(vars()['df_'+filenames[i][:-4]])))\n",
        "    else:\n",
        "        pass"
      ],
      "execution_count": 18,
      "outputs": [
        {
          "output_type": "stream",
          "text": [
            "df_test_a:421985\n",
            "df_feed_embeddings:106444\n",
            "df_submit_demo_初赛a:421985\n",
            "df_user_action:7317882\n",
            "df_feed_info:106444\n"
          ],
          "name": "stdout"
        }
      ]
    },
    {
      "cell_type": "markdown",
      "metadata": {
        "id": "YRMiQE6iVovg"
      },
      "source": [
        "# **Data screening**"
      ]
    },
    {
      "cell_type": "code",
      "metadata": {
        "id": "230BDtPSR899",
        "colab": {
          "base_uri": "https://localhost:8080/",
          "height": 0
        },
        "outputId": "17337e46-6984-475c-cdc7-10796996eb4c"
      },
      "source": [
        "#Training Data (X) & (Y)\n",
        "df_user_action.head(10)"
      ],
      "execution_count": 19,
      "outputs": [
        {
          "output_type": "execute_result",
          "data": {
            "text/html": [
              "<div>\n",
              "<style scoped>\n",
              "    .dataframe tbody tr th:only-of-type {\n",
              "        vertical-align: middle;\n",
              "    }\n",
              "\n",
              "    .dataframe tbody tr th {\n",
              "        vertical-align: top;\n",
              "    }\n",
              "\n",
              "    .dataframe thead th {\n",
              "        text-align: right;\n",
              "    }\n",
              "</style>\n",
              "<table border=\"1\" class=\"dataframe\">\n",
              "  <thead>\n",
              "    <tr style=\"text-align: right;\">\n",
              "      <th></th>\n",
              "      <th>userid</th>\n",
              "      <th>feedid</th>\n",
              "      <th>date_</th>\n",
              "      <th>device</th>\n",
              "      <th>read_comment</th>\n",
              "      <th>comment</th>\n",
              "      <th>like</th>\n",
              "      <th>play</th>\n",
              "      <th>stay</th>\n",
              "      <th>click_avatar</th>\n",
              "      <th>forward</th>\n",
              "      <th>follow</th>\n",
              "      <th>favorite</th>\n",
              "    </tr>\n",
              "  </thead>\n",
              "  <tbody>\n",
              "    <tr>\n",
              "      <th>0</th>\n",
              "      <td>8</td>\n",
              "      <td>71474</td>\n",
              "      <td>1</td>\n",
              "      <td>1</td>\n",
              "      <td>0</td>\n",
              "      <td>0</td>\n",
              "      <td>1</td>\n",
              "      <td>500</td>\n",
              "      <td>5366</td>\n",
              "      <td>0</td>\n",
              "      <td>0</td>\n",
              "      <td>0</td>\n",
              "      <td>0</td>\n",
              "    </tr>\n",
              "    <tr>\n",
              "      <th>1</th>\n",
              "      <td>8</td>\n",
              "      <td>73916</td>\n",
              "      <td>1</td>\n",
              "      <td>1</td>\n",
              "      <td>0</td>\n",
              "      <td>0</td>\n",
              "      <td>0</td>\n",
              "      <td>250</td>\n",
              "      <td>1533</td>\n",
              "      <td>0</td>\n",
              "      <td>0</td>\n",
              "      <td>0</td>\n",
              "      <td>0</td>\n",
              "    </tr>\n",
              "    <tr>\n",
              "      <th>2</th>\n",
              "      <td>8</td>\n",
              "      <td>50282</td>\n",
              "      <td>1</td>\n",
              "      <td>1</td>\n",
              "      <td>0</td>\n",
              "      <td>0</td>\n",
              "      <td>0</td>\n",
              "      <td>750</td>\n",
              "      <td>1302</td>\n",
              "      <td>0</td>\n",
              "      <td>0</td>\n",
              "      <td>0</td>\n",
              "      <td>0</td>\n",
              "    </tr>\n",
              "    <tr>\n",
              "      <th>3</th>\n",
              "      <td>8</td>\n",
              "      <td>11391</td>\n",
              "      <td>1</td>\n",
              "      <td>1</td>\n",
              "      <td>0</td>\n",
              "      <td>0</td>\n",
              "      <td>1</td>\n",
              "      <td>3750</td>\n",
              "      <td>5191</td>\n",
              "      <td>0</td>\n",
              "      <td>0</td>\n",
              "      <td>0</td>\n",
              "      <td>0</td>\n",
              "    </tr>\n",
              "    <tr>\n",
              "      <th>4</th>\n",
              "      <td>8</td>\n",
              "      <td>27349</td>\n",
              "      <td>1</td>\n",
              "      <td>1</td>\n",
              "      <td>0</td>\n",
              "      <td>0</td>\n",
              "      <td>0</td>\n",
              "      <td>250</td>\n",
              "      <td>800</td>\n",
              "      <td>0</td>\n",
              "      <td>0</td>\n",
              "      <td>0</td>\n",
              "      <td>0</td>\n",
              "    </tr>\n",
              "    <tr>\n",
              "      <th>5</th>\n",
              "      <td>8</td>\n",
              "      <td>30287</td>\n",
              "      <td>1</td>\n",
              "      <td>1</td>\n",
              "      <td>0</td>\n",
              "      <td>0</td>\n",
              "      <td>0</td>\n",
              "      <td>0</td>\n",
              "      <td>1496</td>\n",
              "      <td>0</td>\n",
              "      <td>0</td>\n",
              "      <td>0</td>\n",
              "      <td>0</td>\n",
              "    </tr>\n",
              "    <tr>\n",
              "      <th>6</th>\n",
              "      <td>8</td>\n",
              "      <td>1151</td>\n",
              "      <td>1</td>\n",
              "      <td>1</td>\n",
              "      <td>0</td>\n",
              "      <td>0</td>\n",
              "      <td>0</td>\n",
              "      <td>250</td>\n",
              "      <td>976</td>\n",
              "      <td>0</td>\n",
              "      <td>0</td>\n",
              "      <td>0</td>\n",
              "      <td>0</td>\n",
              "    </tr>\n",
              "    <tr>\n",
              "      <th>7</th>\n",
              "      <td>8</td>\n",
              "      <td>69745</td>\n",
              "      <td>1</td>\n",
              "      <td>1</td>\n",
              "      <td>0</td>\n",
              "      <td>0</td>\n",
              "      <td>0</td>\n",
              "      <td>250</td>\n",
              "      <td>817</td>\n",
              "      <td>0</td>\n",
              "      <td>0</td>\n",
              "      <td>0</td>\n",
              "      <td>0</td>\n",
              "    </tr>\n",
              "    <tr>\n",
              "      <th>8</th>\n",
              "      <td>8</td>\n",
              "      <td>22451</td>\n",
              "      <td>1</td>\n",
              "      <td>1</td>\n",
              "      <td>0</td>\n",
              "      <td>0</td>\n",
              "      <td>0</td>\n",
              "      <td>0</td>\n",
              "      <td>2014</td>\n",
              "      <td>0</td>\n",
              "      <td>0</td>\n",
              "      <td>0</td>\n",
              "      <td>0</td>\n",
              "    </tr>\n",
              "    <tr>\n",
              "      <th>9</th>\n",
              "      <td>8</td>\n",
              "      <td>97911</td>\n",
              "      <td>1</td>\n",
              "      <td>1</td>\n",
              "      <td>0</td>\n",
              "      <td>0</td>\n",
              "      <td>0</td>\n",
              "      <td>250</td>\n",
              "      <td>861</td>\n",
              "      <td>0</td>\n",
              "      <td>0</td>\n",
              "      <td>0</td>\n",
              "      <td>0</td>\n",
              "    </tr>\n",
              "  </tbody>\n",
              "</table>\n",
              "</div>"
            ],
            "text/plain": [
              "   userid  feedid  date_  device  ...  click_avatar  forward  follow  favorite\n",
              "0       8   71474      1       1  ...             0        0       0         0\n",
              "1       8   73916      1       1  ...             0        0       0         0\n",
              "2       8   50282      1       1  ...             0        0       0         0\n",
              "3       8   11391      1       1  ...             0        0       0         0\n",
              "4       8   27349      1       1  ...             0        0       0         0\n",
              "5       8   30287      1       1  ...             0        0       0         0\n",
              "6       8    1151      1       1  ...             0        0       0         0\n",
              "7       8   69745      1       1  ...             0        0       0         0\n",
              "8       8   22451      1       1  ...             0        0       0         0\n",
              "9       8   97911      1       1  ...             0        0       0         0\n",
              "\n",
              "[10 rows x 13 columns]"
            ]
          },
          "metadata": {
            "tags": []
          },
          "execution_count": 19
        }
      ]
    },
    {
      "cell_type": "code",
      "metadata": {
        "id": "2-RFs-UgUv-0",
        "colab": {
          "base_uri": "https://localhost:8080/",
          "height": 0
        },
        "outputId": "1b4b9649-2be6-4dbb-ec11-d1890275750f"
      },
      "source": [
        "#Test data (X) -> to predict Y\n",
        "df_test_a.head(10)"
      ],
      "execution_count": 20,
      "outputs": [
        {
          "output_type": "execute_result",
          "data": {
            "text/html": [
              "<div>\n",
              "<style scoped>\n",
              "    .dataframe tbody tr th:only-of-type {\n",
              "        vertical-align: middle;\n",
              "    }\n",
              "\n",
              "    .dataframe tbody tr th {\n",
              "        vertical-align: top;\n",
              "    }\n",
              "\n",
              "    .dataframe thead th {\n",
              "        text-align: right;\n",
              "    }\n",
              "</style>\n",
              "<table border=\"1\" class=\"dataframe\">\n",
              "  <thead>\n",
              "    <tr style=\"text-align: right;\">\n",
              "      <th></th>\n",
              "      <th>userid</th>\n",
              "      <th>feedid</th>\n",
              "      <th>device</th>\n",
              "    </tr>\n",
              "  </thead>\n",
              "  <tbody>\n",
              "    <tr>\n",
              "      <th>0</th>\n",
              "      <td>14298</td>\n",
              "      <td>67227</td>\n",
              "      <td>1</td>\n",
              "    </tr>\n",
              "    <tr>\n",
              "      <th>1</th>\n",
              "      <td>68356</td>\n",
              "      <td>91864</td>\n",
              "      <td>2</td>\n",
              "    </tr>\n",
              "    <tr>\n",
              "      <th>2</th>\n",
              "      <td>49925</td>\n",
              "      <td>104657</td>\n",
              "      <td>2</td>\n",
              "    </tr>\n",
              "    <tr>\n",
              "      <th>3</th>\n",
              "      <td>60529</td>\n",
              "      <td>23738</td>\n",
              "      <td>2</td>\n",
              "    </tr>\n",
              "    <tr>\n",
              "      <th>4</th>\n",
              "      <td>131482</td>\n",
              "      <td>69038</td>\n",
              "      <td>1</td>\n",
              "    </tr>\n",
              "    <tr>\n",
              "      <th>5</th>\n",
              "      <td>52981</td>\n",
              "      <td>33636</td>\n",
              "      <td>1</td>\n",
              "    </tr>\n",
              "    <tr>\n",
              "      <th>6</th>\n",
              "      <td>55058</td>\n",
              "      <td>22853</td>\n",
              "      <td>2</td>\n",
              "    </tr>\n",
              "    <tr>\n",
              "      <th>7</th>\n",
              "      <td>78168</td>\n",
              "      <td>100222</td>\n",
              "      <td>1</td>\n",
              "    </tr>\n",
              "    <tr>\n",
              "      <th>8</th>\n",
              "      <td>135784</td>\n",
              "      <td>78982</td>\n",
              "      <td>2</td>\n",
              "    </tr>\n",
              "    <tr>\n",
              "      <th>9</th>\n",
              "      <td>72975</td>\n",
              "      <td>81367</td>\n",
              "      <td>2</td>\n",
              "    </tr>\n",
              "  </tbody>\n",
              "</table>\n",
              "</div>"
            ],
            "text/plain": [
              "   userid  feedid  device\n",
              "0   14298   67227       1\n",
              "1   68356   91864       2\n",
              "2   49925  104657       2\n",
              "3   60529   23738       2\n",
              "4  131482   69038       1\n",
              "5   52981   33636       1\n",
              "6   55058   22853       2\n",
              "7   78168  100222       1\n",
              "8  135784   78982       2\n",
              "9   72975   81367       2"
            ]
          },
          "metadata": {
            "tags": []
          },
          "execution_count": 20
        }
      ]
    },
    {
      "cell_type": "code",
      "metadata": {
        "id": "hs6jzFsWUyXx",
        "colab": {
          "base_uri": "https://localhost:8080/",
          "height": 0
        },
        "outputId": "b12e1cc6-ed77-4194-c894-843c06c7203c"
      },
      "source": [
        "#feed_id (X)????\n",
        "df_feed_embeddings.head(10)"
      ],
      "execution_count": 21,
      "outputs": [
        {
          "output_type": "execute_result",
          "data": {
            "text/html": [
              "<div>\n",
              "<style scoped>\n",
              "    .dataframe tbody tr th:only-of-type {\n",
              "        vertical-align: middle;\n",
              "    }\n",
              "\n",
              "    .dataframe tbody tr th {\n",
              "        vertical-align: top;\n",
              "    }\n",
              "\n",
              "    .dataframe thead th {\n",
              "        text-align: right;\n",
              "    }\n",
              "</style>\n",
              "<table border=\"1\" class=\"dataframe\">\n",
              "  <thead>\n",
              "    <tr style=\"text-align: right;\">\n",
              "      <th></th>\n",
              "      <th>feedid</th>\n",
              "      <th>feed_embedding</th>\n",
              "    </tr>\n",
              "  </thead>\n",
              "  <tbody>\n",
              "    <tr>\n",
              "      <th>0</th>\n",
              "      <td>46022</td>\n",
              "      <td>-0.02032269 0.06095614 0.11057708 0.03385210 0...</td>\n",
              "    </tr>\n",
              "    <tr>\n",
              "      <th>1</th>\n",
              "      <td>73903</td>\n",
              "      <td>-0.07594238 0.01796364 -0.00135112 -0.00333468...</td>\n",
              "    </tr>\n",
              "    <tr>\n",
              "      <th>2</th>\n",
              "      <td>88646</td>\n",
              "      <td>-0.05067272 -0.08208735 -0.01929738 -0.0150182...</td>\n",
              "    </tr>\n",
              "    <tr>\n",
              "      <th>3</th>\n",
              "      <td>24381</td>\n",
              "      <td>-0.06976026 0.00218324 0.04416835 0.06146711 -...</td>\n",
              "    </tr>\n",
              "    <tr>\n",
              "      <th>4</th>\n",
              "      <td>41542</td>\n",
              "      <td>-0.04981736 -0.03523079 0.03022859 0.06672543 ...</td>\n",
              "    </tr>\n",
              "    <tr>\n",
              "      <th>5</th>\n",
              "      <td>15622</td>\n",
              "      <td>-0.10077595 -0.01764622 0.03897166 -0.04593844...</td>\n",
              "    </tr>\n",
              "    <tr>\n",
              "      <th>6</th>\n",
              "      <td>5662</td>\n",
              "      <td>-0.07481042 -0.07795808 0.00200225 -0.02691050...</td>\n",
              "    </tr>\n",
              "    <tr>\n",
              "      <th>7</th>\n",
              "      <td>4282</td>\n",
              "      <td>-0.00903127 0.04316609 0.06915708 0.00960549 0...</td>\n",
              "    </tr>\n",
              "    <tr>\n",
              "      <th>8</th>\n",
              "      <td>26337</td>\n",
              "      <td>-0.04625623 -0.01046129 0.08407867 -0.00102488...</td>\n",
              "    </tr>\n",
              "    <tr>\n",
              "      <th>9</th>\n",
              "      <td>64025</td>\n",
              "      <td>-0.03590044 0.01959696 0.01913530 0.03326439 0...</td>\n",
              "    </tr>\n",
              "  </tbody>\n",
              "</table>\n",
              "</div>"
            ],
            "text/plain": [
              "   feedid                                     feed_embedding\n",
              "0   46022  -0.02032269 0.06095614 0.11057708 0.03385210 0...\n",
              "1   73903  -0.07594238 0.01796364 -0.00135112 -0.00333468...\n",
              "2   88646  -0.05067272 -0.08208735 -0.01929738 -0.0150182...\n",
              "3   24381  -0.06976026 0.00218324 0.04416835 0.06146711 -...\n",
              "4   41542  -0.04981736 -0.03523079 0.03022859 0.06672543 ...\n",
              "5   15622  -0.10077595 -0.01764622 0.03897166 -0.04593844...\n",
              "6    5662  -0.07481042 -0.07795808 0.00200225 -0.02691050...\n",
              "7    4282  -0.00903127 0.04316609 0.06915708 0.00960549 0...\n",
              "8   26337  -0.04625623 -0.01046129 0.08407867 -0.00102488...\n",
              "9   64025  -0.03590044 0.01959696 0.01913530 0.03326439 0..."
            ]
          },
          "metadata": {
            "tags": []
          },
          "execution_count": 21
        }
      ]
    },
    {
      "cell_type": "code",
      "metadata": {
        "id": "l9-qCSCiU2ba",
        "colab": {
          "base_uri": "https://localhost:8080/",
          "height": 0
        },
        "outputId": "b285835d-5948-41a1-a5f8-44d52c3b12dc"
      },
      "source": [
        "#feed info \n",
        "df_feed_info.head(3)"
      ],
      "execution_count": 22,
      "outputs": [
        {
          "output_type": "execute_result",
          "data": {
            "text/html": [
              "<div>\n",
              "<style scoped>\n",
              "    .dataframe tbody tr th:only-of-type {\n",
              "        vertical-align: middle;\n",
              "    }\n",
              "\n",
              "    .dataframe tbody tr th {\n",
              "        vertical-align: top;\n",
              "    }\n",
              "\n",
              "    .dataframe thead th {\n",
              "        text-align: right;\n",
              "    }\n",
              "</style>\n",
              "<table border=\"1\" class=\"dataframe\">\n",
              "  <thead>\n",
              "    <tr style=\"text-align: right;\">\n",
              "      <th></th>\n",
              "      <th>feedid</th>\n",
              "      <th>authorid</th>\n",
              "      <th>videoplayseconds</th>\n",
              "      <th>description</th>\n",
              "      <th>ocr</th>\n",
              "      <th>asr</th>\n",
              "      <th>bgm_song_id</th>\n",
              "      <th>bgm_singer_id</th>\n",
              "      <th>manual_keyword_list</th>\n",
              "      <th>machine_keyword_list</th>\n",
              "      <th>manual_tag_list</th>\n",
              "      <th>machine_tag_list</th>\n",
              "      <th>description_char</th>\n",
              "      <th>ocr_char</th>\n",
              "      <th>asr_char</th>\n",
              "    </tr>\n",
              "  </thead>\n",
              "  <tbody>\n",
              "    <tr>\n",
              "      <th>0</th>\n",
              "      <td>43549</td>\n",
              "      <td>6165</td>\n",
              "      <td>38</td>\n",
              "      <td>104741 122649 8109 117252 65632 23463 118668 4...</td>\n",
              "      <td>139499 59421 82007 142955 27736 83577 52394 11...</td>\n",
              "      <td>142955 27736 83577 103956 32010 34170 89740 90...</td>\n",
              "      <td>19356.0</td>\n",
              "      <td>11703.0</td>\n",
              "      <td>15506;7715;17582</td>\n",
              "      <td>26334;219;25209;7715;18541</td>\n",
              "      <td>81;269;159;6</td>\n",
              "      <td>269 0.8525666;81 0.8525666;8 1.1e-07;306 0.0;2...</td>\n",
              "      <td>26439 5247 6426 3827 1882 26018 20744 22204 30...</td>\n",
              "      <td>25926 8491 13394 2203 26439 6243 33054 16435 1...</td>\n",
              "      <td>2203 26439 6243 33054 16435 16307 17070 24908 ...</td>\n",
              "    </tr>\n",
              "    <tr>\n",
              "      <th>1</th>\n",
              "      <td>77432</td>\n",
              "      <td>9386</td>\n",
              "      <td>60</td>\n",
              "      <td>35753 27736 146603 73055 11794 101761 11794 81...</td>\n",
              "      <td>35753 146603 73055 11794 101761 67496 16933 52...</td>\n",
              "      <td>146739 14368 79290 79213 47366 8109 33194 1198...</td>\n",
              "      <td>NaN</td>\n",
              "      <td>NaN</td>\n",
              "      <td>8199;18322;4243</td>\n",
              "      <td>24078;19924</td>\n",
              "      <td>194;267;159;6</td>\n",
              "      <td>267 0.99293476;194 0.99293476</td>\n",
              "      <td>31010 32495 6243 13923 15360 30483 2709 26084 ...</td>\n",
              "      <td>31010 32495 13923 15360 30483 2709 26084 15160...</td>\n",
              "      <td>7259 20851 5061 26207 17573 17531 15117 20072 ...</td>\n",
              "    </tr>\n",
              "    <tr>\n",
              "      <th>2</th>\n",
              "      <td>12921</td>\n",
              "      <td>2996</td>\n",
              "      <td>15</td>\n",
              "      <td>114413 107973 117252 27736 41035 32715 125374 ...</td>\n",
              "      <td>NaN</td>\n",
              "      <td>NaN</td>\n",
              "      <td>10288.0</td>\n",
              "      <td>11354.0</td>\n",
              "      <td>NaN</td>\n",
              "      <td>11696;6926</td>\n",
              "      <td>202;23;160;6</td>\n",
              "      <td>23 0.64771646;202 0.64771646</td>\n",
              "      <td>27077 10050 27464 20072 26018 6243 21492 14750...</td>\n",
              "      <td>NaN</td>\n",
              "      <td>NaN</td>\n",
              "    </tr>\n",
              "  </tbody>\n",
              "</table>\n",
              "</div>"
            ],
            "text/plain": [
              "   feedid  ...                                           asr_char\n",
              "0   43549  ...  2203 26439 6243 33054 16435 16307 17070 24908 ...\n",
              "1   77432  ...  7259 20851 5061 26207 17573 17531 15117 20072 ...\n",
              "2   12921  ...                                                NaN\n",
              "\n",
              "[3 rows x 15 columns]"
            ]
          },
          "metadata": {
            "tags": []
          },
          "execution_count": 22
        }
      ]
    },
    {
      "cell_type": "code",
      "metadata": {
        "id": "g4F4BWqgR_oI",
        "colab": {
          "base_uri": "https://localhost:8080/",
          "height": 0
        },
        "outputId": "2ba649dc-ab83-480b-e830-f61ae802a9b7"
      },
      "source": [
        "df_submit_demo_初赛a.head(10)"
      ],
      "execution_count": 23,
      "outputs": [
        {
          "output_type": "execute_result",
          "data": {
            "text/html": [
              "<div>\n",
              "<style scoped>\n",
              "    .dataframe tbody tr th:only-of-type {\n",
              "        vertical-align: middle;\n",
              "    }\n",
              "\n",
              "    .dataframe tbody tr th {\n",
              "        vertical-align: top;\n",
              "    }\n",
              "\n",
              "    .dataframe thead th {\n",
              "        text-align: right;\n",
              "    }\n",
              "</style>\n",
              "<table border=\"1\" class=\"dataframe\">\n",
              "  <thead>\n",
              "    <tr style=\"text-align: right;\">\n",
              "      <th></th>\n",
              "      <th>userid</th>\n",
              "      <th>feedid</th>\n",
              "      <th>read_comment</th>\n",
              "      <th>like</th>\n",
              "      <th>click_avatar</th>\n",
              "      <th>forward</th>\n",
              "    </tr>\n",
              "  </thead>\n",
              "  <tbody>\n",
              "    <tr>\n",
              "      <th>0</th>\n",
              "      <td>14298</td>\n",
              "      <td>67227</td>\n",
              "      <td>0.880075</td>\n",
              "      <td>0.483832</td>\n",
              "      <td>0.722144</td>\n",
              "      <td>0.563880</td>\n",
              "    </tr>\n",
              "    <tr>\n",
              "      <th>1</th>\n",
              "      <td>68356</td>\n",
              "      <td>91864</td>\n",
              "      <td>0.769031</td>\n",
              "      <td>0.929535</td>\n",
              "      <td>0.186520</td>\n",
              "      <td>0.257904</td>\n",
              "    </tr>\n",
              "    <tr>\n",
              "      <th>2</th>\n",
              "      <td>49925</td>\n",
              "      <td>104657</td>\n",
              "      <td>0.932616</td>\n",
              "      <td>0.405896</td>\n",
              "      <td>0.142349</td>\n",
              "      <td>0.284657</td>\n",
              "    </tr>\n",
              "    <tr>\n",
              "      <th>3</th>\n",
              "      <td>60529</td>\n",
              "      <td>23738</td>\n",
              "      <td>0.143770</td>\n",
              "      <td>0.550933</td>\n",
              "      <td>0.316308</td>\n",
              "      <td>0.159592</td>\n",
              "    </tr>\n",
              "    <tr>\n",
              "      <th>4</th>\n",
              "      <td>131482</td>\n",
              "      <td>69038</td>\n",
              "      <td>0.139427</td>\n",
              "      <td>0.051200</td>\n",
              "      <td>0.295990</td>\n",
              "      <td>0.092229</td>\n",
              "    </tr>\n",
              "    <tr>\n",
              "      <th>5</th>\n",
              "      <td>52981</td>\n",
              "      <td>33636</td>\n",
              "      <td>0.073550</td>\n",
              "      <td>0.384265</td>\n",
              "      <td>0.085490</td>\n",
              "      <td>0.348019</td>\n",
              "    </tr>\n",
              "    <tr>\n",
              "      <th>6</th>\n",
              "      <td>55058</td>\n",
              "      <td>22853</td>\n",
              "      <td>0.188886</td>\n",
              "      <td>0.877843</td>\n",
              "      <td>0.251247</td>\n",
              "      <td>0.670633</td>\n",
              "    </tr>\n",
              "    <tr>\n",
              "      <th>7</th>\n",
              "      <td>78168</td>\n",
              "      <td>100222</td>\n",
              "      <td>0.470670</td>\n",
              "      <td>0.266480</td>\n",
              "      <td>0.934919</td>\n",
              "      <td>0.468340</td>\n",
              "    </tr>\n",
              "    <tr>\n",
              "      <th>8</th>\n",
              "      <td>135784</td>\n",
              "      <td>78982</td>\n",
              "      <td>0.788318</td>\n",
              "      <td>0.446627</td>\n",
              "      <td>0.961844</td>\n",
              "      <td>0.938570</td>\n",
              "    </tr>\n",
              "    <tr>\n",
              "      <th>9</th>\n",
              "      <td>72975</td>\n",
              "      <td>81367</td>\n",
              "      <td>0.958540</td>\n",
              "      <td>0.357957</td>\n",
              "      <td>0.310659</td>\n",
              "      <td>0.145679</td>\n",
              "    </tr>\n",
              "  </tbody>\n",
              "</table>\n",
              "</div>"
            ],
            "text/plain": [
              "   userid  feedid  read_comment      like  click_avatar   forward\n",
              "0   14298   67227      0.880075  0.483832      0.722144  0.563880\n",
              "1   68356   91864      0.769031  0.929535      0.186520  0.257904\n",
              "2   49925  104657      0.932616  0.405896      0.142349  0.284657\n",
              "3   60529   23738      0.143770  0.550933      0.316308  0.159592\n",
              "4  131482   69038      0.139427  0.051200      0.295990  0.092229\n",
              "5   52981   33636      0.073550  0.384265      0.085490  0.348019\n",
              "6   55058   22853      0.188886  0.877843      0.251247  0.670633\n",
              "7   78168  100222      0.470670  0.266480      0.934919  0.468340\n",
              "8  135784   78982      0.788318  0.446627      0.961844  0.938570\n",
              "9   72975   81367      0.958540  0.357957      0.310659  0.145679"
            ]
          },
          "metadata": {
            "tags": []
          },
          "execution_count": 23
        }
      ]
    },
    {
      "cell_type": "markdown",
      "metadata": {
        "id": "UqpBmdcKWmQK"
      },
      "source": [
        "# **Freedom's**\n",
        "\n"
      ]
    },
    {
      "cell_type": "markdown",
      "metadata": {
        "id": "NiMjUg1ZMjnd"
      },
      "source": [
        "## **Data pre-processing**"
      ]
    },
    {
      "cell_type": "markdown",
      "metadata": {
        "id": "wt2wVBFSeRJr"
      },
      "source": [
        "### **- Feed embeding Data for (X)**"
      ]
    },
    {
      "cell_type": "code",
      "metadata": {
        "id": "tukYPh4ZbHyF"
      },
      "source": [
        "#Data (X) feed embedding\n",
        "_list_embeddings=[]\n",
        "_list_embeddings=[x.strip().split(' ') for x in df_feed_embeddings['feed_embedding'].tolist()]\n",
        "#Convert string to float\n",
        "_list_embeddings_num=[list(np.float_(lst)) for lst in  _list_embeddings]"
      ],
      "execution_count": 24,
      "outputs": []
    },
    {
      "cell_type": "code",
      "metadata": {
        "id": "dDHVFwcuXi3y"
      },
      "source": [
        "#Data Columns (X) feed embedding\n",
        "_list_Feed_columns=['X_' + str(sub) for sub in np.arange(len(_list_embeddings_num[0]))]"
      ],
      "execution_count": 25,
      "outputs": []
    },
    {
      "cell_type": "code",
      "metadata": {
        "id": "QyraJh41cvCn"
      },
      "source": [
        "#Create feed embedding data\n",
        "df_feed_X=pd.DataFrame(data=_list_embeddings_num,columns=_list_Feed_columns)\n",
        "#Merge on FeedID\n",
        "df_feed_embeddings_X=pd.merge(df_feed_embeddings['feedid'],df_feed_X, left_index=True, right_index=True)"
      ],
      "execution_count": 26,
      "outputs": []
    },
    {
      "cell_type": "code",
      "metadata": {
        "id": "RMgzOOv2wLOt"
      },
      "source": [
        "# To release memory\n",
        "del _list_embeddings_num \n",
        "del _list_embeddings"
      ],
      "execution_count": 27,
      "outputs": []
    },
    {
      "cell_type": "markdown",
      "metadata": {
        "id": "y3bTCABRdr3b"
      },
      "source": [
        "###----- Check Feed embeding Data"
      ]
    },
    {
      "cell_type": "code",
      "metadata": {
        "colab": {
          "base_uri": "https://localhost:8080/"
        },
        "id": "qBO8QmfyJgW7",
        "outputId": "e006c034-e2d5-4eab-d50d-c8c25deea06a"
      },
      "source": [
        "#Check NaN data\n",
        "df_feed_embeddings_X.isnull().values.any()"
      ],
      "execution_count": 28,
      "outputs": [
        {
          "output_type": "execute_result",
          "data": {
            "text/plain": [
              "False"
            ]
          },
          "metadata": {
            "tags": []
          },
          "execution_count": 28
        }
      ]
    },
    {
      "cell_type": "code",
      "metadata": {
        "colab": {
          "base_uri": "https://localhost:8080/",
          "height": 0
        },
        "id": "oAFptL66ZkAM",
        "outputId": "28ca1331-e8aa-468a-b9b7-997b0aff6eb4"
      },
      "source": [
        "df_feed_embeddings_X.head(3)"
      ],
      "execution_count": 29,
      "outputs": [
        {
          "output_type": "execute_result",
          "data": {
            "text/html": [
              "<div>\n",
              "<style scoped>\n",
              "    .dataframe tbody tr th:only-of-type {\n",
              "        vertical-align: middle;\n",
              "    }\n",
              "\n",
              "    .dataframe tbody tr th {\n",
              "        vertical-align: top;\n",
              "    }\n",
              "\n",
              "    .dataframe thead th {\n",
              "        text-align: right;\n",
              "    }\n",
              "</style>\n",
              "<table border=\"1\" class=\"dataframe\">\n",
              "  <thead>\n",
              "    <tr style=\"text-align: right;\">\n",
              "      <th></th>\n",
              "      <th>feedid</th>\n",
              "      <th>X_0</th>\n",
              "      <th>X_1</th>\n",
              "      <th>X_2</th>\n",
              "      <th>X_3</th>\n",
              "      <th>X_4</th>\n",
              "      <th>X_5</th>\n",
              "      <th>X_6</th>\n",
              "      <th>X_7</th>\n",
              "      <th>X_8</th>\n",
              "      <th>X_9</th>\n",
              "      <th>X_10</th>\n",
              "      <th>X_11</th>\n",
              "      <th>X_12</th>\n",
              "      <th>X_13</th>\n",
              "      <th>X_14</th>\n",
              "      <th>X_15</th>\n",
              "      <th>X_16</th>\n",
              "      <th>X_17</th>\n",
              "      <th>X_18</th>\n",
              "      <th>X_19</th>\n",
              "      <th>X_20</th>\n",
              "      <th>X_21</th>\n",
              "      <th>X_22</th>\n",
              "      <th>X_23</th>\n",
              "      <th>X_24</th>\n",
              "      <th>X_25</th>\n",
              "      <th>X_26</th>\n",
              "      <th>X_27</th>\n",
              "      <th>X_28</th>\n",
              "      <th>X_29</th>\n",
              "      <th>X_30</th>\n",
              "      <th>X_31</th>\n",
              "      <th>X_32</th>\n",
              "      <th>X_33</th>\n",
              "      <th>X_34</th>\n",
              "      <th>X_35</th>\n",
              "      <th>X_36</th>\n",
              "      <th>X_37</th>\n",
              "      <th>X_38</th>\n",
              "      <th>...</th>\n",
              "      <th>X_472</th>\n",
              "      <th>X_473</th>\n",
              "      <th>X_474</th>\n",
              "      <th>X_475</th>\n",
              "      <th>X_476</th>\n",
              "      <th>X_477</th>\n",
              "      <th>X_478</th>\n",
              "      <th>X_479</th>\n",
              "      <th>X_480</th>\n",
              "      <th>X_481</th>\n",
              "      <th>X_482</th>\n",
              "      <th>X_483</th>\n",
              "      <th>X_484</th>\n",
              "      <th>X_485</th>\n",
              "      <th>X_486</th>\n",
              "      <th>X_487</th>\n",
              "      <th>X_488</th>\n",
              "      <th>X_489</th>\n",
              "      <th>X_490</th>\n",
              "      <th>X_491</th>\n",
              "      <th>X_492</th>\n",
              "      <th>X_493</th>\n",
              "      <th>X_494</th>\n",
              "      <th>X_495</th>\n",
              "      <th>X_496</th>\n",
              "      <th>X_497</th>\n",
              "      <th>X_498</th>\n",
              "      <th>X_499</th>\n",
              "      <th>X_500</th>\n",
              "      <th>X_501</th>\n",
              "      <th>X_502</th>\n",
              "      <th>X_503</th>\n",
              "      <th>X_504</th>\n",
              "      <th>X_505</th>\n",
              "      <th>X_506</th>\n",
              "      <th>X_507</th>\n",
              "      <th>X_508</th>\n",
              "      <th>X_509</th>\n",
              "      <th>X_510</th>\n",
              "      <th>X_511</th>\n",
              "    </tr>\n",
              "  </thead>\n",
              "  <tbody>\n",
              "    <tr>\n",
              "      <th>0</th>\n",
              "      <td>46022</td>\n",
              "      <td>-0.020323</td>\n",
              "      <td>0.060956</td>\n",
              "      <td>0.110577</td>\n",
              "      <td>0.033852</td>\n",
              "      <td>0.028125</td>\n",
              "      <td>-0.085190</td>\n",
              "      <td>0.055592</td>\n",
              "      <td>-0.001098</td>\n",
              "      <td>-0.006469</td>\n",
              "      <td>-0.040490</td>\n",
              "      <td>0.050003</td>\n",
              "      <td>0.030590</td>\n",
              "      <td>0.023775</td>\n",
              "      <td>0.016129</td>\n",
              "      <td>0.006675</td>\n",
              "      <td>-0.019058</td>\n",
              "      <td>0.028737</td>\n",
              "      <td>-0.038177</td>\n",
              "      <td>0.063162</td>\n",
              "      <td>-0.022369</td>\n",
              "      <td>0.041543</td>\n",
              "      <td>-0.019273</td>\n",
              "      <td>-0.065638</td>\n",
              "      <td>0.081566</td>\n",
              "      <td>-0.045814</td>\n",
              "      <td>-0.059316</td>\n",
              "      <td>0.013377</td>\n",
              "      <td>0.070154</td>\n",
              "      <td>-0.015702</td>\n",
              "      <td>-0.018321</td>\n",
              "      <td>-0.014080</td>\n",
              "      <td>-0.077180</td>\n",
              "      <td>-0.008886</td>\n",
              "      <td>-0.012408</td>\n",
              "      <td>0.065398</td>\n",
              "      <td>0.010434</td>\n",
              "      <td>0.045773</td>\n",
              "      <td>0.024244</td>\n",
              "      <td>-0.007295</td>\n",
              "      <td>...</td>\n",
              "      <td>-0.027442</td>\n",
              "      <td>0.008716</td>\n",
              "      <td>0.002703</td>\n",
              "      <td>0.019876</td>\n",
              "      <td>-0.090183</td>\n",
              "      <td>-0.032537</td>\n",
              "      <td>-0.004720</td>\n",
              "      <td>0.033999</td>\n",
              "      <td>-0.046672</td>\n",
              "      <td>-0.068530</td>\n",
              "      <td>0.058420</td>\n",
              "      <td>0.013628</td>\n",
              "      <td>0.015241</td>\n",
              "      <td>0.057415</td>\n",
              "      <td>-0.015635</td>\n",
              "      <td>-0.051328</td>\n",
              "      <td>-0.007046</td>\n",
              "      <td>0.030525</td>\n",
              "      <td>0.076565</td>\n",
              "      <td>0.034216</td>\n",
              "      <td>0.006677</td>\n",
              "      <td>0.001987</td>\n",
              "      <td>0.175590</td>\n",
              "      <td>-0.084504</td>\n",
              "      <td>-0.068579</td>\n",
              "      <td>-0.084344</td>\n",
              "      <td>-0.063360</td>\n",
              "      <td>-0.044166</td>\n",
              "      <td>0.030180</td>\n",
              "      <td>0.083635</td>\n",
              "      <td>0.073053</td>\n",
              "      <td>-0.005482</td>\n",
              "      <td>-0.007490</td>\n",
              "      <td>0.031201</td>\n",
              "      <td>-0.071249</td>\n",
              "      <td>-0.031798</td>\n",
              "      <td>0.040727</td>\n",
              "      <td>-0.011228</td>\n",
              "      <td>0.001824</td>\n",
              "      <td>0.018544</td>\n",
              "    </tr>\n",
              "    <tr>\n",
              "      <th>1</th>\n",
              "      <td>73903</td>\n",
              "      <td>-0.075942</td>\n",
              "      <td>0.017964</td>\n",
              "      <td>-0.001351</td>\n",
              "      <td>-0.003335</td>\n",
              "      <td>-0.039069</td>\n",
              "      <td>-0.012011</td>\n",
              "      <td>0.014896</td>\n",
              "      <td>-0.020899</td>\n",
              "      <td>0.100037</td>\n",
              "      <td>-0.073923</td>\n",
              "      <td>0.032253</td>\n",
              "      <td>0.024733</td>\n",
              "      <td>0.006362</td>\n",
              "      <td>0.021023</td>\n",
              "      <td>0.030891</td>\n",
              "      <td>-0.031349</td>\n",
              "      <td>-0.064041</td>\n",
              "      <td>0.033738</td>\n",
              "      <td>-0.005180</td>\n",
              "      <td>-0.012711</td>\n",
              "      <td>0.019486</td>\n",
              "      <td>0.050983</td>\n",
              "      <td>0.005509</td>\n",
              "      <td>-0.024289</td>\n",
              "      <td>0.057363</td>\n",
              "      <td>-0.023029</td>\n",
              "      <td>0.049625</td>\n",
              "      <td>-0.013093</td>\n",
              "      <td>0.094092</td>\n",
              "      <td>-0.020512</td>\n",
              "      <td>0.045075</td>\n",
              "      <td>0.033395</td>\n",
              "      <td>-0.002570</td>\n",
              "      <td>-0.024000</td>\n",
              "      <td>0.059284</td>\n",
              "      <td>0.030325</td>\n",
              "      <td>0.043798</td>\n",
              "      <td>0.011206</td>\n",
              "      <td>-0.055404</td>\n",
              "      <td>...</td>\n",
              "      <td>-0.059543</td>\n",
              "      <td>-0.036542</td>\n",
              "      <td>-0.004397</td>\n",
              "      <td>-0.030557</td>\n",
              "      <td>-0.033170</td>\n",
              "      <td>-0.039639</td>\n",
              "      <td>0.007106</td>\n",
              "      <td>-0.018315</td>\n",
              "      <td>-0.013346</td>\n",
              "      <td>-0.012272</td>\n",
              "      <td>0.005906</td>\n",
              "      <td>0.006817</td>\n",
              "      <td>-0.028856</td>\n",
              "      <td>0.001431</td>\n",
              "      <td>-0.014855</td>\n",
              "      <td>-0.018370</td>\n",
              "      <td>0.030396</td>\n",
              "      <td>0.013597</td>\n",
              "      <td>0.002659</td>\n",
              "      <td>0.074067</td>\n",
              "      <td>0.046170</td>\n",
              "      <td>0.072228</td>\n",
              "      <td>0.140893</td>\n",
              "      <td>0.036249</td>\n",
              "      <td>0.015693</td>\n",
              "      <td>-0.115075</td>\n",
              "      <td>-0.024943</td>\n",
              "      <td>-0.000283</td>\n",
              "      <td>-0.016740</td>\n",
              "      <td>0.100125</td>\n",
              "      <td>0.011751</td>\n",
              "      <td>0.004190</td>\n",
              "      <td>0.064341</td>\n",
              "      <td>0.094825</td>\n",
              "      <td>-0.078081</td>\n",
              "      <td>0.003889</td>\n",
              "      <td>-0.014045</td>\n",
              "      <td>-0.087243</td>\n",
              "      <td>-0.044992</td>\n",
              "      <td>0.014717</td>\n",
              "    </tr>\n",
              "    <tr>\n",
              "      <th>2</th>\n",
              "      <td>88646</td>\n",
              "      <td>-0.050673</td>\n",
              "      <td>-0.082087</td>\n",
              "      <td>-0.019297</td>\n",
              "      <td>-0.015018</td>\n",
              "      <td>-0.000390</td>\n",
              "      <td>-0.051599</td>\n",
              "      <td>0.043321</td>\n",
              "      <td>-0.069046</td>\n",
              "      <td>0.032217</td>\n",
              "      <td>-0.015544</td>\n",
              "      <td>-0.043855</td>\n",
              "      <td>-0.044078</td>\n",
              "      <td>-0.035882</td>\n",
              "      <td>0.022807</td>\n",
              "      <td>0.048777</td>\n",
              "      <td>-0.050294</td>\n",
              "      <td>-0.055595</td>\n",
              "      <td>-0.065153</td>\n",
              "      <td>0.016518</td>\n",
              "      <td>-0.036729</td>\n",
              "      <td>0.022894</td>\n",
              "      <td>0.056650</td>\n",
              "      <td>0.002671</td>\n",
              "      <td>0.012963</td>\n",
              "      <td>-0.020440</td>\n",
              "      <td>-0.015135</td>\n",
              "      <td>-0.005572</td>\n",
              "      <td>0.097868</td>\n",
              "      <td>0.025273</td>\n",
              "      <td>-0.002121</td>\n",
              "      <td>0.027417</td>\n",
              "      <td>0.003301</td>\n",
              "      <td>0.032801</td>\n",
              "      <td>0.024886</td>\n",
              "      <td>0.069834</td>\n",
              "      <td>0.024144</td>\n",
              "      <td>-0.006991</td>\n",
              "      <td>-0.057108</td>\n",
              "      <td>-0.082292</td>\n",
              "      <td>...</td>\n",
              "      <td>-0.018050</td>\n",
              "      <td>-0.000946</td>\n",
              "      <td>-0.000946</td>\n",
              "      <td>-0.010450</td>\n",
              "      <td>-0.031935</td>\n",
              "      <td>-0.085231</td>\n",
              "      <td>0.059711</td>\n",
              "      <td>-0.004069</td>\n",
              "      <td>0.026912</td>\n",
              "      <td>-0.048627</td>\n",
              "      <td>0.006784</td>\n",
              "      <td>-0.018839</td>\n",
              "      <td>-0.007815</td>\n",
              "      <td>-0.031992</td>\n",
              "      <td>-0.007566</td>\n",
              "      <td>-0.031945</td>\n",
              "      <td>0.059819</td>\n",
              "      <td>0.007014</td>\n",
              "      <td>-0.002640</td>\n",
              "      <td>0.035705</td>\n",
              "      <td>0.055600</td>\n",
              "      <td>0.069681</td>\n",
              "      <td>0.125612</td>\n",
              "      <td>0.048009</td>\n",
              "      <td>-0.000183</td>\n",
              "      <td>-0.087922</td>\n",
              "      <td>-0.008881</td>\n",
              "      <td>-0.047463</td>\n",
              "      <td>-0.036239</td>\n",
              "      <td>0.077850</td>\n",
              "      <td>0.023434</td>\n",
              "      <td>-0.079689</td>\n",
              "      <td>0.058327</td>\n",
              "      <td>0.034262</td>\n",
              "      <td>-0.009084</td>\n",
              "      <td>-0.025580</td>\n",
              "      <td>-0.008750</td>\n",
              "      <td>-0.003565</td>\n",
              "      <td>0.013552</td>\n",
              "      <td>0.021545</td>\n",
              "    </tr>\n",
              "  </tbody>\n",
              "</table>\n",
              "<p>3 rows × 513 columns</p>\n",
              "</div>"
            ],
            "text/plain": [
              "   feedid       X_0       X_1       X_2  ...     X_508     X_509     X_510     X_511\n",
              "0   46022 -0.020323  0.060956  0.110577  ...  0.040727 -0.011228  0.001824  0.018544\n",
              "1   73903 -0.075942  0.017964 -0.001351  ... -0.014045 -0.087243 -0.044992  0.014717\n",
              "2   88646 -0.050673 -0.082087 -0.019297  ... -0.008750 -0.003565  0.013552  0.021545\n",
              "\n",
              "[3 rows x 513 columns]"
            ]
          },
          "metadata": {
            "tags": []
          },
          "execution_count": 29
        }
      ]
    },
    {
      "cell_type": "code",
      "metadata": {
        "colab": {
          "base_uri": "https://localhost:8080/",
          "height": 0
        },
        "id": "SQXMfLyMdUUd",
        "outputId": "ca1a9486-bb8e-4725-a384-10d83f8ccd30"
      },
      "source": [
        "df_feed_embeddings_X.tail(3)"
      ],
      "execution_count": 30,
      "outputs": [
        {
          "output_type": "execute_result",
          "data": {
            "text/html": [
              "<div>\n",
              "<style scoped>\n",
              "    .dataframe tbody tr th:only-of-type {\n",
              "        vertical-align: middle;\n",
              "    }\n",
              "\n",
              "    .dataframe tbody tr th {\n",
              "        vertical-align: top;\n",
              "    }\n",
              "\n",
              "    .dataframe thead th {\n",
              "        text-align: right;\n",
              "    }\n",
              "</style>\n",
              "<table border=\"1\" class=\"dataframe\">\n",
              "  <thead>\n",
              "    <tr style=\"text-align: right;\">\n",
              "      <th></th>\n",
              "      <th>feedid</th>\n",
              "      <th>X_0</th>\n",
              "      <th>X_1</th>\n",
              "      <th>X_2</th>\n",
              "      <th>X_3</th>\n",
              "      <th>X_4</th>\n",
              "      <th>X_5</th>\n",
              "      <th>X_6</th>\n",
              "      <th>X_7</th>\n",
              "      <th>X_8</th>\n",
              "      <th>X_9</th>\n",
              "      <th>X_10</th>\n",
              "      <th>X_11</th>\n",
              "      <th>X_12</th>\n",
              "      <th>X_13</th>\n",
              "      <th>X_14</th>\n",
              "      <th>X_15</th>\n",
              "      <th>X_16</th>\n",
              "      <th>X_17</th>\n",
              "      <th>X_18</th>\n",
              "      <th>X_19</th>\n",
              "      <th>X_20</th>\n",
              "      <th>X_21</th>\n",
              "      <th>X_22</th>\n",
              "      <th>X_23</th>\n",
              "      <th>X_24</th>\n",
              "      <th>X_25</th>\n",
              "      <th>X_26</th>\n",
              "      <th>X_27</th>\n",
              "      <th>X_28</th>\n",
              "      <th>X_29</th>\n",
              "      <th>X_30</th>\n",
              "      <th>X_31</th>\n",
              "      <th>X_32</th>\n",
              "      <th>X_33</th>\n",
              "      <th>X_34</th>\n",
              "      <th>X_35</th>\n",
              "      <th>X_36</th>\n",
              "      <th>X_37</th>\n",
              "      <th>X_38</th>\n",
              "      <th>...</th>\n",
              "      <th>X_472</th>\n",
              "      <th>X_473</th>\n",
              "      <th>X_474</th>\n",
              "      <th>X_475</th>\n",
              "      <th>X_476</th>\n",
              "      <th>X_477</th>\n",
              "      <th>X_478</th>\n",
              "      <th>X_479</th>\n",
              "      <th>X_480</th>\n",
              "      <th>X_481</th>\n",
              "      <th>X_482</th>\n",
              "      <th>X_483</th>\n",
              "      <th>X_484</th>\n",
              "      <th>X_485</th>\n",
              "      <th>X_486</th>\n",
              "      <th>X_487</th>\n",
              "      <th>X_488</th>\n",
              "      <th>X_489</th>\n",
              "      <th>X_490</th>\n",
              "      <th>X_491</th>\n",
              "      <th>X_492</th>\n",
              "      <th>X_493</th>\n",
              "      <th>X_494</th>\n",
              "      <th>X_495</th>\n",
              "      <th>X_496</th>\n",
              "      <th>X_497</th>\n",
              "      <th>X_498</th>\n",
              "      <th>X_499</th>\n",
              "      <th>X_500</th>\n",
              "      <th>X_501</th>\n",
              "      <th>X_502</th>\n",
              "      <th>X_503</th>\n",
              "      <th>X_504</th>\n",
              "      <th>X_505</th>\n",
              "      <th>X_506</th>\n",
              "      <th>X_507</th>\n",
              "      <th>X_508</th>\n",
              "      <th>X_509</th>\n",
              "      <th>X_510</th>\n",
              "      <th>X_511</th>\n",
              "    </tr>\n",
              "  </thead>\n",
              "  <tbody>\n",
              "    <tr>\n",
              "      <th>106441</th>\n",
              "      <td>66410</td>\n",
              "      <td>-0.006194</td>\n",
              "      <td>0.004365</td>\n",
              "      <td>0.026771</td>\n",
              "      <td>-0.020137</td>\n",
              "      <td>-0.073253</td>\n",
              "      <td>-0.098104</td>\n",
              "      <td>-0.015283</td>\n",
              "      <td>-0.037157</td>\n",
              "      <td>-0.074449</td>\n",
              "      <td>-0.023142</td>\n",
              "      <td>0.002907</td>\n",
              "      <td>0.059261</td>\n",
              "      <td>-0.074697</td>\n",
              "      <td>0.017964</td>\n",
              "      <td>0.001024</td>\n",
              "      <td>-0.044236</td>\n",
              "      <td>-0.062544</td>\n",
              "      <td>0.019082</td>\n",
              "      <td>-0.037372</td>\n",
              "      <td>0.028796</td>\n",
              "      <td>0.004268</td>\n",
              "      <td>0.026641</td>\n",
              "      <td>-0.050764</td>\n",
              "      <td>0.045411</td>\n",
              "      <td>0.013751</td>\n",
              "      <td>0.086901</td>\n",
              "      <td>0.078046</td>\n",
              "      <td>0.035665</td>\n",
              "      <td>0.067252</td>\n",
              "      <td>-0.034432</td>\n",
              "      <td>0.050651</td>\n",
              "      <td>0.000294</td>\n",
              "      <td>0.001212</td>\n",
              "      <td>0.025169</td>\n",
              "      <td>0.045674</td>\n",
              "      <td>-0.028069</td>\n",
              "      <td>0.000176</td>\n",
              "      <td>-0.020752</td>\n",
              "      <td>0.000346</td>\n",
              "      <td>...</td>\n",
              "      <td>-0.010198</td>\n",
              "      <td>-0.012318</td>\n",
              "      <td>0.038839</td>\n",
              "      <td>-0.007358</td>\n",
              "      <td>-0.007505</td>\n",
              "      <td>0.077867</td>\n",
              "      <td>0.041421</td>\n",
              "      <td>-0.010238</td>\n",
              "      <td>-0.002388</td>\n",
              "      <td>-0.029156</td>\n",
              "      <td>0.016238</td>\n",
              "      <td>0.043866</td>\n",
              "      <td>-0.026456</td>\n",
              "      <td>0.044375</td>\n",
              "      <td>0.055156</td>\n",
              "      <td>-0.032129</td>\n",
              "      <td>-0.019800</td>\n",
              "      <td>-0.012852</td>\n",
              "      <td>0.041681</td>\n",
              "      <td>-0.007086</td>\n",
              "      <td>0.056590</td>\n",
              "      <td>-0.053442</td>\n",
              "      <td>0.116056</td>\n",
              "      <td>-0.040261</td>\n",
              "      <td>-0.046709</td>\n",
              "      <td>-0.087885</td>\n",
              "      <td>0.048384</td>\n",
              "      <td>-0.026192</td>\n",
              "      <td>-0.027640</td>\n",
              "      <td>-0.005039</td>\n",
              "      <td>0.031822</td>\n",
              "      <td>-0.001642</td>\n",
              "      <td>0.005780</td>\n",
              "      <td>-0.056018</td>\n",
              "      <td>-0.013198</td>\n",
              "      <td>-0.002852</td>\n",
              "      <td>0.041717</td>\n",
              "      <td>-0.029440</td>\n",
              "      <td>0.040435</td>\n",
              "      <td>0.038833</td>\n",
              "    </tr>\n",
              "    <tr>\n",
              "      <th>106442</th>\n",
              "      <td>7919</td>\n",
              "      <td>-0.056616</td>\n",
              "      <td>-0.132325</td>\n",
              "      <td>-0.034051</td>\n",
              "      <td>0.026896</td>\n",
              "      <td>-0.037564</td>\n",
              "      <td>-0.038448</td>\n",
              "      <td>0.042680</td>\n",
              "      <td>0.041747</td>\n",
              "      <td>-0.020963</td>\n",
              "      <td>-0.068147</td>\n",
              "      <td>-0.097938</td>\n",
              "      <td>-0.055873</td>\n",
              "      <td>0.067541</td>\n",
              "      <td>0.019557</td>\n",
              "      <td>0.031695</td>\n",
              "      <td>-0.034589</td>\n",
              "      <td>-0.014413</td>\n",
              "      <td>-0.029950</td>\n",
              "      <td>0.009496</td>\n",
              "      <td>-0.018405</td>\n",
              "      <td>0.066226</td>\n",
              "      <td>-0.017776</td>\n",
              "      <td>0.037486</td>\n",
              "      <td>-0.038148</td>\n",
              "      <td>0.003982</td>\n",
              "      <td>-0.064239</td>\n",
              "      <td>0.015321</td>\n",
              "      <td>0.020589</td>\n",
              "      <td>0.033773</td>\n",
              "      <td>0.002812</td>\n",
              "      <td>0.024638</td>\n",
              "      <td>0.002553</td>\n",
              "      <td>-0.021630</td>\n",
              "      <td>-0.033388</td>\n",
              "      <td>0.013497</td>\n",
              "      <td>0.001530</td>\n",
              "      <td>0.003040</td>\n",
              "      <td>-0.075090</td>\n",
              "      <td>-0.035682</td>\n",
              "      <td>...</td>\n",
              "      <td>-0.068546</td>\n",
              "      <td>0.041760</td>\n",
              "      <td>0.035815</td>\n",
              "      <td>-0.039786</td>\n",
              "      <td>-0.085565</td>\n",
              "      <td>-0.088827</td>\n",
              "      <td>0.073943</td>\n",
              "      <td>-0.036991</td>\n",
              "      <td>0.031913</td>\n",
              "      <td>-0.066685</td>\n",
              "      <td>0.044627</td>\n",
              "      <td>-0.002128</td>\n",
              "      <td>0.021552</td>\n",
              "      <td>0.044172</td>\n",
              "      <td>-0.060671</td>\n",
              "      <td>-0.034037</td>\n",
              "      <td>-0.011568</td>\n",
              "      <td>-0.025932</td>\n",
              "      <td>0.061114</td>\n",
              "      <td>0.037626</td>\n",
              "      <td>0.055031</td>\n",
              "      <td>-0.086923</td>\n",
              "      <td>0.110555</td>\n",
              "      <td>-0.007252</td>\n",
              "      <td>-0.051375</td>\n",
              "      <td>-0.039976</td>\n",
              "      <td>0.023897</td>\n",
              "      <td>0.054094</td>\n",
              "      <td>0.014834</td>\n",
              "      <td>0.083576</td>\n",
              "      <td>-0.019717</td>\n",
              "      <td>-0.008263</td>\n",
              "      <td>0.041563</td>\n",
              "      <td>0.049817</td>\n",
              "      <td>-0.016654</td>\n",
              "      <td>0.017793</td>\n",
              "      <td>0.042140</td>\n",
              "      <td>-0.090922</td>\n",
              "      <td>-0.029644</td>\n",
              "      <td>0.043790</td>\n",
              "    </tr>\n",
              "    <tr>\n",
              "      <th>106443</th>\n",
              "      <td>30814</td>\n",
              "      <td>-0.031621</td>\n",
              "      <td>0.012202</td>\n",
              "      <td>-0.034196</td>\n",
              "      <td>0.041800</td>\n",
              "      <td>0.032551</td>\n",
              "      <td>0.008273</td>\n",
              "      <td>0.025489</td>\n",
              "      <td>0.020592</td>\n",
              "      <td>0.063458</td>\n",
              "      <td>-0.048692</td>\n",
              "      <td>-0.042560</td>\n",
              "      <td>-0.075689</td>\n",
              "      <td>0.042015</td>\n",
              "      <td>0.010242</td>\n",
              "      <td>0.006343</td>\n",
              "      <td>-0.024075</td>\n",
              "      <td>-0.000445</td>\n",
              "      <td>0.057938</td>\n",
              "      <td>-0.054409</td>\n",
              "      <td>-0.032302</td>\n",
              "      <td>0.014076</td>\n",
              "      <td>0.054840</td>\n",
              "      <td>-0.013665</td>\n",
              "      <td>-0.014645</td>\n",
              "      <td>-0.023489</td>\n",
              "      <td>-0.003142</td>\n",
              "      <td>-0.049176</td>\n",
              "      <td>0.051081</td>\n",
              "      <td>0.073438</td>\n",
              "      <td>0.026865</td>\n",
              "      <td>0.026982</td>\n",
              "      <td>0.006739</td>\n",
              "      <td>-0.011789</td>\n",
              "      <td>0.007141</td>\n",
              "      <td>0.020885</td>\n",
              "      <td>-0.005423</td>\n",
              "      <td>-0.113116</td>\n",
              "      <td>0.015382</td>\n",
              "      <td>-0.059076</td>\n",
              "      <td>...</td>\n",
              "      <td>-0.061246</td>\n",
              "      <td>-0.019042</td>\n",
              "      <td>0.015585</td>\n",
              "      <td>0.016471</td>\n",
              "      <td>0.029277</td>\n",
              "      <td>-0.097061</td>\n",
              "      <td>-0.007497</td>\n",
              "      <td>0.032778</td>\n",
              "      <td>-0.037261</td>\n",
              "      <td>-0.010602</td>\n",
              "      <td>-0.003544</td>\n",
              "      <td>0.051102</td>\n",
              "      <td>-0.011009</td>\n",
              "      <td>-0.043721</td>\n",
              "      <td>0.060356</td>\n",
              "      <td>-0.019837</td>\n",
              "      <td>-0.031269</td>\n",
              "      <td>0.013458</td>\n",
              "      <td>-0.034135</td>\n",
              "      <td>0.000137</td>\n",
              "      <td>-0.032172</td>\n",
              "      <td>0.039296</td>\n",
              "      <td>0.084269</td>\n",
              "      <td>0.044101</td>\n",
              "      <td>0.029310</td>\n",
              "      <td>-0.166182</td>\n",
              "      <td>0.026453</td>\n",
              "      <td>0.010244</td>\n",
              "      <td>-0.020662</td>\n",
              "      <td>-0.050546</td>\n",
              "      <td>0.003034</td>\n",
              "      <td>-0.074777</td>\n",
              "      <td>0.055233</td>\n",
              "      <td>0.012304</td>\n",
              "      <td>-0.117919</td>\n",
              "      <td>0.033329</td>\n",
              "      <td>-0.011915</td>\n",
              "      <td>-0.060238</td>\n",
              "      <td>0.002613</td>\n",
              "      <td>0.036961</td>\n",
              "    </tr>\n",
              "  </tbody>\n",
              "</table>\n",
              "<p>3 rows × 513 columns</p>\n",
              "</div>"
            ],
            "text/plain": [
              "        feedid       X_0       X_1  ...     X_509     X_510     X_511\n",
              "106441   66410 -0.006194  0.004365  ... -0.029440  0.040435  0.038833\n",
              "106442    7919 -0.056616 -0.132325  ... -0.090922 -0.029644  0.043790\n",
              "106443   30814 -0.031621  0.012202  ... -0.060238  0.002613  0.036961\n",
              "\n",
              "[3 rows x 513 columns]"
            ]
          },
          "metadata": {
            "tags": []
          },
          "execution_count": 30
        }
      ]
    },
    {
      "cell_type": "markdown",
      "metadata": {
        "id": "3PRE1ZlOe90y"
      },
      "source": [
        "### **- Preparing Training Data (X) + (Y)**"
      ]
    },
    {
      "cell_type": "code",
      "metadata": {
        "colab": {
          "base_uri": "https://localhost:8080/"
        },
        "id": "E5YGmYMMgIqU",
        "outputId": "e20ab52f-d5b6-4a92-87e9-e027b9c1701d"
      },
      "source": [
        "# test data columns\n",
        "df_test_a.columns"
      ],
      "execution_count": 31,
      "outputs": [
        {
          "output_type": "execute_result",
          "data": {
            "text/plain": [
              "Index(['userid', 'feedid', 'device'], dtype='object')"
            ]
          },
          "metadata": {
            "tags": []
          },
          "execution_count": 31
        }
      ]
    },
    {
      "cell_type": "code",
      "metadata": {
        "colab": {
          "base_uri": "https://localhost:8080/"
        },
        "id": "FQaM8e9sgUi7",
        "outputId": "01e14c7c-daaa-4f13-8e6b-53af9cf22985"
      },
      "source": [
        "# Submission data columns\n",
        "df_submit_demo_初赛a.columns"
      ],
      "execution_count": 32,
      "outputs": [
        {
          "output_type": "execute_result",
          "data": {
            "text/plain": [
              "Index(['userid', 'feedid', 'read_comment', 'like', 'click_avatar', 'forward'], dtype='object')"
            ]
          },
          "metadata": {
            "tags": []
          },
          "execution_count": 32
        }
      ]
    },
    {
      "cell_type": "code",
      "metadata": {
        "id": "Yeyrnjg2gzQA"
      },
      "source": [
        "# Y columns\n",
        "_list_Ycolumns=df_test_a.columns.append(df_submit_demo_初赛a.columns) ###Combine Y columns\n",
        "_list_Ycolumns = list(dict.fromkeys(_list_Ycolumns)) ### Remove duplicate items"
      ],
      "execution_count": 33,
      "outputs": []
    },
    {
      "cell_type": "code",
      "metadata": {
        "id": "WFi-pQDIhGAm"
      },
      "source": [
        "####Training Data\n",
        "df_Training_Y=df_user_action[_list_Ycolumns] ###Y data"
      ],
      "execution_count": 34,
      "outputs": []
    },
    {
      "cell_type": "code",
      "metadata": {
        "id": "R77aC-rFWOGq"
      },
      "source": [
        "# df_Training=pd.merge(df_Training_Y,df_feed_embeddings_X,on='feedid',how='left') # Merge with X"
      ],
      "execution_count": 35,
      "outputs": []
    },
    {
      "cell_type": "code",
      "metadata": {
        "colab": {
          "base_uri": "https://localhost:8080/",
          "height": 110
        },
        "id": "Lb-dXpDXxXqZ",
        "outputId": "bec8dfe0-84ec-4285-f6ba-c0f2c41a540b"
      },
      "source": [
        "df_Training_Y.head(2)"
      ],
      "execution_count": 36,
      "outputs": [
        {
          "output_type": "execute_result",
          "data": {
            "text/html": [
              "<div>\n",
              "<style scoped>\n",
              "    .dataframe tbody tr th:only-of-type {\n",
              "        vertical-align: middle;\n",
              "    }\n",
              "\n",
              "    .dataframe tbody tr th {\n",
              "        vertical-align: top;\n",
              "    }\n",
              "\n",
              "    .dataframe thead th {\n",
              "        text-align: right;\n",
              "    }\n",
              "</style>\n",
              "<table border=\"1\" class=\"dataframe\">\n",
              "  <thead>\n",
              "    <tr style=\"text-align: right;\">\n",
              "      <th></th>\n",
              "      <th>userid</th>\n",
              "      <th>feedid</th>\n",
              "      <th>device</th>\n",
              "      <th>read_comment</th>\n",
              "      <th>like</th>\n",
              "      <th>click_avatar</th>\n",
              "      <th>forward</th>\n",
              "    </tr>\n",
              "  </thead>\n",
              "  <tbody>\n",
              "    <tr>\n",
              "      <th>0</th>\n",
              "      <td>8</td>\n",
              "      <td>71474</td>\n",
              "      <td>1</td>\n",
              "      <td>0</td>\n",
              "      <td>1</td>\n",
              "      <td>0</td>\n",
              "      <td>0</td>\n",
              "    </tr>\n",
              "    <tr>\n",
              "      <th>1</th>\n",
              "      <td>8</td>\n",
              "      <td>73916</td>\n",
              "      <td>1</td>\n",
              "      <td>0</td>\n",
              "      <td>0</td>\n",
              "      <td>0</td>\n",
              "      <td>0</td>\n",
              "    </tr>\n",
              "  </tbody>\n",
              "</table>\n",
              "</div>"
            ],
            "text/plain": [
              "   userid  feedid  device  read_comment  like  click_avatar  forward\n",
              "0       8   71474       1             0     1             0        0\n",
              "1       8   73916       1             0     0             0        0"
            ]
          },
          "metadata": {
            "tags": []
          },
          "execution_count": 36
        }
      ]
    },
    {
      "cell_type": "code",
      "metadata": {
        "colab": {
          "base_uri": "https://localhost:8080/",
          "height": 159
        },
        "id": "F0tcKTH_xSbh",
        "outputId": "d34246ea-abee-4ca1-ce4e-f0dcd886cc09"
      },
      "source": [
        "df_feed_embeddings_X.head(2)"
      ],
      "execution_count": 37,
      "outputs": [
        {
          "output_type": "execute_result",
          "data": {
            "text/html": [
              "<div>\n",
              "<style scoped>\n",
              "    .dataframe tbody tr th:only-of-type {\n",
              "        vertical-align: middle;\n",
              "    }\n",
              "\n",
              "    .dataframe tbody tr th {\n",
              "        vertical-align: top;\n",
              "    }\n",
              "\n",
              "    .dataframe thead th {\n",
              "        text-align: right;\n",
              "    }\n",
              "</style>\n",
              "<table border=\"1\" class=\"dataframe\">\n",
              "  <thead>\n",
              "    <tr style=\"text-align: right;\">\n",
              "      <th></th>\n",
              "      <th>feedid</th>\n",
              "      <th>X_0</th>\n",
              "      <th>X_1</th>\n",
              "      <th>X_2</th>\n",
              "      <th>X_3</th>\n",
              "      <th>X_4</th>\n",
              "      <th>X_5</th>\n",
              "      <th>X_6</th>\n",
              "      <th>X_7</th>\n",
              "      <th>X_8</th>\n",
              "      <th>X_9</th>\n",
              "      <th>X_10</th>\n",
              "      <th>X_11</th>\n",
              "      <th>X_12</th>\n",
              "      <th>X_13</th>\n",
              "      <th>X_14</th>\n",
              "      <th>X_15</th>\n",
              "      <th>X_16</th>\n",
              "      <th>X_17</th>\n",
              "      <th>X_18</th>\n",
              "      <th>X_19</th>\n",
              "      <th>X_20</th>\n",
              "      <th>X_21</th>\n",
              "      <th>X_22</th>\n",
              "      <th>X_23</th>\n",
              "      <th>X_24</th>\n",
              "      <th>X_25</th>\n",
              "      <th>X_26</th>\n",
              "      <th>X_27</th>\n",
              "      <th>X_28</th>\n",
              "      <th>X_29</th>\n",
              "      <th>X_30</th>\n",
              "      <th>X_31</th>\n",
              "      <th>X_32</th>\n",
              "      <th>X_33</th>\n",
              "      <th>X_34</th>\n",
              "      <th>X_35</th>\n",
              "      <th>X_36</th>\n",
              "      <th>X_37</th>\n",
              "      <th>X_38</th>\n",
              "      <th>...</th>\n",
              "      <th>X_472</th>\n",
              "      <th>X_473</th>\n",
              "      <th>X_474</th>\n",
              "      <th>X_475</th>\n",
              "      <th>X_476</th>\n",
              "      <th>X_477</th>\n",
              "      <th>X_478</th>\n",
              "      <th>X_479</th>\n",
              "      <th>X_480</th>\n",
              "      <th>X_481</th>\n",
              "      <th>X_482</th>\n",
              "      <th>X_483</th>\n",
              "      <th>X_484</th>\n",
              "      <th>X_485</th>\n",
              "      <th>X_486</th>\n",
              "      <th>X_487</th>\n",
              "      <th>X_488</th>\n",
              "      <th>X_489</th>\n",
              "      <th>X_490</th>\n",
              "      <th>X_491</th>\n",
              "      <th>X_492</th>\n",
              "      <th>X_493</th>\n",
              "      <th>X_494</th>\n",
              "      <th>X_495</th>\n",
              "      <th>X_496</th>\n",
              "      <th>X_497</th>\n",
              "      <th>X_498</th>\n",
              "      <th>X_499</th>\n",
              "      <th>X_500</th>\n",
              "      <th>X_501</th>\n",
              "      <th>X_502</th>\n",
              "      <th>X_503</th>\n",
              "      <th>X_504</th>\n",
              "      <th>X_505</th>\n",
              "      <th>X_506</th>\n",
              "      <th>X_507</th>\n",
              "      <th>X_508</th>\n",
              "      <th>X_509</th>\n",
              "      <th>X_510</th>\n",
              "      <th>X_511</th>\n",
              "    </tr>\n",
              "  </thead>\n",
              "  <tbody>\n",
              "    <tr>\n",
              "      <th>0</th>\n",
              "      <td>46022</td>\n",
              "      <td>-0.020323</td>\n",
              "      <td>0.060956</td>\n",
              "      <td>0.110577</td>\n",
              "      <td>0.033852</td>\n",
              "      <td>0.028125</td>\n",
              "      <td>-0.085190</td>\n",
              "      <td>0.055592</td>\n",
              "      <td>-0.001098</td>\n",
              "      <td>-0.006469</td>\n",
              "      <td>-0.040490</td>\n",
              "      <td>0.050003</td>\n",
              "      <td>0.030590</td>\n",
              "      <td>0.023775</td>\n",
              "      <td>0.016129</td>\n",
              "      <td>0.006675</td>\n",
              "      <td>-0.019058</td>\n",
              "      <td>0.028737</td>\n",
              "      <td>-0.038177</td>\n",
              "      <td>0.063162</td>\n",
              "      <td>-0.022369</td>\n",
              "      <td>0.041543</td>\n",
              "      <td>-0.019273</td>\n",
              "      <td>-0.065638</td>\n",
              "      <td>0.081566</td>\n",
              "      <td>-0.045814</td>\n",
              "      <td>-0.059316</td>\n",
              "      <td>0.013377</td>\n",
              "      <td>0.070154</td>\n",
              "      <td>-0.015702</td>\n",
              "      <td>-0.018321</td>\n",
              "      <td>-0.014080</td>\n",
              "      <td>-0.077180</td>\n",
              "      <td>-0.008886</td>\n",
              "      <td>-0.012408</td>\n",
              "      <td>0.065398</td>\n",
              "      <td>0.010434</td>\n",
              "      <td>0.045773</td>\n",
              "      <td>0.024244</td>\n",
              "      <td>-0.007295</td>\n",
              "      <td>...</td>\n",
              "      <td>-0.027442</td>\n",
              "      <td>0.008716</td>\n",
              "      <td>0.002703</td>\n",
              "      <td>0.019876</td>\n",
              "      <td>-0.090183</td>\n",
              "      <td>-0.032537</td>\n",
              "      <td>-0.004720</td>\n",
              "      <td>0.033999</td>\n",
              "      <td>-0.046672</td>\n",
              "      <td>-0.068530</td>\n",
              "      <td>0.058420</td>\n",
              "      <td>0.013628</td>\n",
              "      <td>0.015241</td>\n",
              "      <td>0.057415</td>\n",
              "      <td>-0.015635</td>\n",
              "      <td>-0.051328</td>\n",
              "      <td>-0.007046</td>\n",
              "      <td>0.030525</td>\n",
              "      <td>0.076565</td>\n",
              "      <td>0.034216</td>\n",
              "      <td>0.006677</td>\n",
              "      <td>0.001987</td>\n",
              "      <td>0.175590</td>\n",
              "      <td>-0.084504</td>\n",
              "      <td>-0.068579</td>\n",
              "      <td>-0.084344</td>\n",
              "      <td>-0.063360</td>\n",
              "      <td>-0.044166</td>\n",
              "      <td>0.03018</td>\n",
              "      <td>0.083635</td>\n",
              "      <td>0.073053</td>\n",
              "      <td>-0.005482</td>\n",
              "      <td>-0.007490</td>\n",
              "      <td>0.031201</td>\n",
              "      <td>-0.071249</td>\n",
              "      <td>-0.031798</td>\n",
              "      <td>0.040727</td>\n",
              "      <td>-0.011228</td>\n",
              "      <td>0.001824</td>\n",
              "      <td>0.018544</td>\n",
              "    </tr>\n",
              "    <tr>\n",
              "      <th>1</th>\n",
              "      <td>73903</td>\n",
              "      <td>-0.075942</td>\n",
              "      <td>0.017964</td>\n",
              "      <td>-0.001351</td>\n",
              "      <td>-0.003335</td>\n",
              "      <td>-0.039069</td>\n",
              "      <td>-0.012011</td>\n",
              "      <td>0.014896</td>\n",
              "      <td>-0.020899</td>\n",
              "      <td>0.100037</td>\n",
              "      <td>-0.073923</td>\n",
              "      <td>0.032253</td>\n",
              "      <td>0.024733</td>\n",
              "      <td>0.006362</td>\n",
              "      <td>0.021023</td>\n",
              "      <td>0.030891</td>\n",
              "      <td>-0.031349</td>\n",
              "      <td>-0.064041</td>\n",
              "      <td>0.033738</td>\n",
              "      <td>-0.005180</td>\n",
              "      <td>-0.012711</td>\n",
              "      <td>0.019486</td>\n",
              "      <td>0.050983</td>\n",
              "      <td>0.005509</td>\n",
              "      <td>-0.024289</td>\n",
              "      <td>0.057363</td>\n",
              "      <td>-0.023029</td>\n",
              "      <td>0.049625</td>\n",
              "      <td>-0.013093</td>\n",
              "      <td>0.094092</td>\n",
              "      <td>-0.020512</td>\n",
              "      <td>0.045075</td>\n",
              "      <td>0.033395</td>\n",
              "      <td>-0.002570</td>\n",
              "      <td>-0.024000</td>\n",
              "      <td>0.059284</td>\n",
              "      <td>0.030325</td>\n",
              "      <td>0.043798</td>\n",
              "      <td>0.011206</td>\n",
              "      <td>-0.055404</td>\n",
              "      <td>...</td>\n",
              "      <td>-0.059543</td>\n",
              "      <td>-0.036542</td>\n",
              "      <td>-0.004397</td>\n",
              "      <td>-0.030557</td>\n",
              "      <td>-0.033170</td>\n",
              "      <td>-0.039639</td>\n",
              "      <td>0.007106</td>\n",
              "      <td>-0.018315</td>\n",
              "      <td>-0.013346</td>\n",
              "      <td>-0.012272</td>\n",
              "      <td>0.005906</td>\n",
              "      <td>0.006817</td>\n",
              "      <td>-0.028856</td>\n",
              "      <td>0.001431</td>\n",
              "      <td>-0.014855</td>\n",
              "      <td>-0.018370</td>\n",
              "      <td>0.030396</td>\n",
              "      <td>0.013597</td>\n",
              "      <td>0.002659</td>\n",
              "      <td>0.074067</td>\n",
              "      <td>0.046170</td>\n",
              "      <td>0.072228</td>\n",
              "      <td>0.140893</td>\n",
              "      <td>0.036249</td>\n",
              "      <td>0.015693</td>\n",
              "      <td>-0.115075</td>\n",
              "      <td>-0.024943</td>\n",
              "      <td>-0.000283</td>\n",
              "      <td>-0.01674</td>\n",
              "      <td>0.100125</td>\n",
              "      <td>0.011751</td>\n",
              "      <td>0.004190</td>\n",
              "      <td>0.064341</td>\n",
              "      <td>0.094825</td>\n",
              "      <td>-0.078081</td>\n",
              "      <td>0.003889</td>\n",
              "      <td>-0.014045</td>\n",
              "      <td>-0.087243</td>\n",
              "      <td>-0.044992</td>\n",
              "      <td>0.014717</td>\n",
              "    </tr>\n",
              "  </tbody>\n",
              "</table>\n",
              "<p>2 rows × 513 columns</p>\n",
              "</div>"
            ],
            "text/plain": [
              "   feedid       X_0       X_1       X_2  ...     X_508     X_509     X_510     X_511\n",
              "0   46022 -0.020323  0.060956  0.110577  ...  0.040727 -0.011228  0.001824  0.018544\n",
              "1   73903 -0.075942  0.017964 -0.001351  ... -0.014045 -0.087243 -0.044992  0.014717\n",
              "\n",
              "[2 rows x 513 columns]"
            ]
          },
          "metadata": {
            "tags": []
          },
          "execution_count": 37
        }
      ]
    },
    {
      "cell_type": "code",
      "metadata": {
        "colab": {
          "base_uri": "https://localhost:8080/"
        },
        "id": "aD_7XQRuQ7Rt",
        "outputId": "4a2c5396-1276-455b-8158-bae5e6d5396c"
      },
      "source": [
        "df_Training_Y.memory_usage(deep=True) * 1e-6"
      ],
      "execution_count": 38,
      "outputs": [
        {
          "output_type": "execute_result",
          "data": {
            "text/plain": [
              "Index            0.000128\n",
              "userid          58.543056\n",
              "feedid          58.543056\n",
              "device          58.543056\n",
              "read_comment    58.543056\n",
              "like            58.543056\n",
              "click_avatar    58.543056\n",
              "forward         58.543056\n",
              "dtype: float64"
            ]
          },
          "metadata": {
            "tags": []
          },
          "execution_count": 38
        }
      ]
    },
    {
      "cell_type": "code",
      "metadata": {
        "colab": {
          "base_uri": "https://localhost:8080/"
        },
        "id": "OfR7SIT8QMK2",
        "outputId": "3f6b6056-c6b1-40dd-cd9b-6b5debfe5d64"
      },
      "source": [
        "df_feed_embeddings_X.memory_usage(deep=True) * 1e-6"
      ],
      "execution_count": 39,
      "outputs": [
        {
          "output_type": "execute_result",
          "data": {
            "text/plain": [
              "Index     0.000128\n",
              "feedid    0.851552\n",
              "X_0       0.851552\n",
              "X_1       0.851552\n",
              "X_2       0.851552\n",
              "            ...   \n",
              "X_507     0.851552\n",
              "X_508     0.851552\n",
              "X_509     0.851552\n",
              "X_510     0.851552\n",
              "X_511     0.851552\n",
              "Length: 514, dtype: float64"
            ]
          },
          "metadata": {
            "tags": []
          },
          "execution_count": 39
        }
      ]
    },
    {
      "cell_type": "markdown",
      "metadata": {
        "id": "zdxmbbSW3Pxc"
      },
      "source": [
        "### **- EDA**"
      ]
    },
    {
      "cell_type": "code",
      "metadata": {
        "id": "05PF5Lp-Jg-E"
      },
      "source": [
        "###-----------------Summary-----------------###"
      ],
      "execution_count": null,
      "outputs": []
    },
    {
      "cell_type": "code",
      "metadata": {
        "colab": {
          "base_uri": "https://localhost:8080/",
          "height": 141
        },
        "id": "gItIeuDdJhC6",
        "outputId": "54361da1-9b5a-440e-8c5d-b59dad9299da"
      },
      "source": [
        "df_Training_Y.sample(3)\n",
        "# len(df_Training_Y)"
      ],
      "execution_count": 48,
      "outputs": [
        {
          "output_type": "execute_result",
          "data": {
            "text/html": [
              "<div>\n",
              "<style scoped>\n",
              "    .dataframe tbody tr th:only-of-type {\n",
              "        vertical-align: middle;\n",
              "    }\n",
              "\n",
              "    .dataframe tbody tr th {\n",
              "        vertical-align: top;\n",
              "    }\n",
              "\n",
              "    .dataframe thead th {\n",
              "        text-align: right;\n",
              "    }\n",
              "</style>\n",
              "<table border=\"1\" class=\"dataframe\">\n",
              "  <thead>\n",
              "    <tr style=\"text-align: right;\">\n",
              "      <th></th>\n",
              "      <th>userid</th>\n",
              "      <th>feedid</th>\n",
              "      <th>device</th>\n",
              "      <th>read_comment</th>\n",
              "      <th>like</th>\n",
              "      <th>click_avatar</th>\n",
              "      <th>forward</th>\n",
              "    </tr>\n",
              "  </thead>\n",
              "  <tbody>\n",
              "    <tr>\n",
              "      <th>3104484</th>\n",
              "      <td>106488</td>\n",
              "      <td>68534</td>\n",
              "      <td>2</td>\n",
              "      <td>0</td>\n",
              "      <td>0</td>\n",
              "      <td>0</td>\n",
              "      <td>0</td>\n",
              "    </tr>\n",
              "    <tr>\n",
              "      <th>2244102</th>\n",
              "      <td>75783</td>\n",
              "      <td>91708</td>\n",
              "      <td>2</td>\n",
              "      <td>0</td>\n",
              "      <td>0</td>\n",
              "      <td>0</td>\n",
              "      <td>0</td>\n",
              "    </tr>\n",
              "    <tr>\n",
              "      <th>5463679</th>\n",
              "      <td>187026</td>\n",
              "      <td>80388</td>\n",
              "      <td>2</td>\n",
              "      <td>0</td>\n",
              "      <td>0</td>\n",
              "      <td>0</td>\n",
              "      <td>0</td>\n",
              "    </tr>\n",
              "  </tbody>\n",
              "</table>\n",
              "</div>"
            ],
            "text/plain": [
              "         userid  feedid  device  read_comment  like  click_avatar  forward\n",
              "3104484  106488   68534       2             0     0             0        0\n",
              "2244102   75783   91708       2             0     0             0        0\n",
              "5463679  187026   80388       2             0     0             0        0"
            ]
          },
          "metadata": {
            "tags": []
          },
          "execution_count": 48
        }
      ]
    },
    {
      "cell_type": "code",
      "metadata": {
        "colab": {
          "base_uri": "https://localhost:8080/"
        },
        "id": "ow7mEvxVKEu2",
        "outputId": "f65ae3f7-27b2-4012-9927-d8636e8c52bb"
      },
      "source": [
        "print(df_Training_Y['read_comment'].value_counts())\n",
        "print((df_Training_Y['read_comment'].value_counts()/len(df_Training_Y))*100)\n",
        "print('-'*50)\n",
        "print(df_Training_Y['like'].value_counts())\n",
        "print((df_Training_Y['like'].value_counts()/len(df_Training_Y))*100)\n",
        "print('-'*50)\n",
        "print(df_Training_Y['click_avatar'].value_counts())\n",
        "print((df_Training_Y['click_avatar'].value_counts()/len(df_Training_Y))*100)\n",
        "print('-'*50)\n",
        "print(df_Training_Y['forward'].value_counts())\n",
        "print((df_Training_Y['forward'].value_counts()/len(df_Training_Y))*100)"
      ],
      "execution_count": 68,
      "outputs": [
        {
          "output_type": "stream",
          "text": [
            "0    7061640\n",
            "1     256242\n",
            "Name: read_comment, dtype: int64\n",
            "0    96.498413\n",
            "1     3.501587\n",
            "Name: read_comment, dtype: float64\n",
            "--------------------------------------------------\n",
            "0    7129045\n",
            "1     188837\n",
            "Name: like, dtype: int64\n",
            "0    97.419513\n",
            "1     2.580487\n",
            "Name: like, dtype: float64\n",
            "--------------------------------------------------\n",
            "0    7262754\n",
            "1      55128\n",
            "Name: click_avatar, dtype: int64\n",
            "0    99.246667\n",
            "1     0.753333\n",
            "Name: click_avatar, dtype: float64\n",
            "--------------------------------------------------\n",
            "0    7289919\n",
            "1      27963\n",
            "Name: forward, dtype: int64\n",
            "0    99.617881\n",
            "1     0.382119\n",
            "Name: forward, dtype: float64\n"
          ],
          "name": "stdout"
        }
      ]
    },
    {
      "cell_type": "code",
      "metadata": {
        "id": "XhCaVGDnLDVE"
      },
      "source": [
        "# read_comment\n",
        "no_user_read_comment= df_Training_Y.groupby('feedid')['read_comment'].agg('count')\n",
        "no_feed_read_comment= df_Training_Y.groupby('userid')['read_comment'].agg('count')\n",
        "\n",
        "# like\n",
        "no_user_like= df_Training_Y.groupby('feedid')['like'].agg('count')\n",
        "no_feed_like= df_Training_Y.groupby('userid')['like'].agg('count')\n",
        "\n",
        "# click_avatar\n",
        "no_user_click_avatar= df_Training_Y.groupby('feedid')['click_avatar'].agg('count')\n",
        "no_feed_click_avatar= df_Training_Y.groupby('userid')['click_avatar'].agg('count')\n",
        "\n",
        "# forward\n",
        "no_user_forward= df_Training_Y.groupby('feedid')['forward'].agg('count')\n",
        "no_feed_forward= df_Training_Y.groupby('userid')['forward'].agg('count')"
      ],
      "execution_count": 66,
      "outputs": []
    },
    {
      "cell_type": "code",
      "metadata": {
        "id": "pnQGMhlYNFpC"
      },
      "source": [
        "print('-'*20+' read_comment no. of users by feed '+'-'*20)\n",
        "print(no_user_read_comment.describe())\n",
        "print('-'*20+' read_comment no. of feeds by user '+'-'*20)\n",
        "print(no_feed_read_comment.describe())\n",
        "\n",
        "print('-'*20+' like no. of users by feed '+'-'*20)\n",
        "print(no_user_like.describe())\n",
        "print('-'*20+' like no. of feeds by user '+'-'*20)\n",
        "print(no_feed_like.describe())\n",
        "\n",
        "print('-'*20+' click_avatar no. of users by feed '+'-'*20)\n",
        "print(no_user_click_avatar.describe())\n",
        "print('-'*20+' click_avatar no. of feeds by user '+'-'*20)\n",
        "print(no_feed_click_avatar.describe())\n",
        "\n",
        "print('-'*20+' forward no. of users by feed '+'-'*20)\n",
        "print(no_user_forward.describe())\n",
        "print('-'*20+' forward no. of feeds by user '+'-'*20)\n",
        "print(no_feed_forward.describe())"
      ],
      "execution_count": null,
      "outputs": []
    },
    {
      "cell_type": "code",
      "metadata": {
        "id": "g1Nm1heqPenw"
      },
      "source": [
        "import seaborn as sns\n",
        "import matplotlib.pyplot as plt"
      ],
      "execution_count": 86,
      "outputs": []
    },
    {
      "cell_type": "code",
      "metadata": {
        "colab": {
          "base_uri": "https://localhost:8080/",
          "height": 387
        },
        "id": "seM1vZh_PAgq",
        "outputId": "445ee745-93f5-4ebf-edad-fb684bb66a98"
      },
      "source": [
        "# print('-'*20+' read_comment no. of users by feed '+'-'*20)\n",
        "sns.distplot(no_user_read_comment)\n",
        "# print('-'*20+' read_comment no. of feeds by user '+'-'*20)\n",
        "sns.distplot(no_feed_read_comment)"
      ],
      "execution_count": 84,
      "outputs": [
        {
          "output_type": "stream",
          "text": [
            "/usr/local/lib/python3.7/dist-packages/seaborn/distributions.py:2557: FutureWarning: `distplot` is a deprecated function and will be removed in a future version. Please adapt your code to use either `displot` (a figure-level function with similar flexibility) or `histplot` (an axes-level function for histograms).\n",
            "  warnings.warn(msg, FutureWarning)\n",
            "/usr/local/lib/python3.7/dist-packages/seaborn/distributions.py:2557: FutureWarning: `distplot` is a deprecated function and will be removed in a future version. Please adapt your code to use either `displot` (a figure-level function with similar flexibility) or `histplot` (an axes-level function for histograms).\n",
            "  warnings.warn(msg, FutureWarning)\n"
          ],
          "name": "stderr"
        },
        {
          "output_type": "execute_result",
          "data": {
            "text/plain": [
              "<matplotlib.axes._subplots.AxesSubplot at 0x7f774be95890>"
            ]
          },
          "metadata": {
            "tags": []
          },
          "execution_count": 84
        },
        {
          "output_type": "display_data",
          "data": {
            "image/png": "[encoded data removed]",
            "text/plain": [
              "<Figure size 432x288 with 1 Axes>"
            ]
          },
          "metadata": {
            "tags": [],
            "needs_background": "light"
          }
        }
      ]
    },
    {
      "cell_type": "code",
      "metadata": {
        "colab": {
          "base_uri": "https://localhost:8080/",
          "height": 279
        },
        "id": "hm8aV0SYPxge",
        "outputId": "f68646c5-a772-4e5f-9c2c-d2dacca55e43"
      },
      "source": [
        "#Let’s visualize the number of users who read_comment.\n",
        "f,ax = plt.subplots(1,1,figsize=(16,4))\n",
        "# ratings['rating'].plot(kind='hist')\n",
        "plt.scatter(no_user_read_comment.index,no_user_read_comment,color='mediumseagreen')\n",
        "# plt.axhline(y=800,color='r')\n",
        "plt.xlabel('Feed ID')\n",
        "plt.ylabel('No. of users read_comment')\n",
        "plt.show()"
      ],
      "execution_count": 90,
      "outputs": [
        {
          "output_type": "display_data",
          "data": {
            "image/png": "[encoded data removed]",
            "text/plain": [
              "<Figure size 1152x288 with 1 Axes>"
            ]
          },
          "metadata": {
            "tags": [],
            "needs_background": "light"
          }
        }
      ]
    },
    {
      "cell_type": "code",
      "metadata": {
        "id": "55mdzgfDJhE_"
      },
      "source": [
        ""
      ],
      "execution_count": null,
      "outputs": []
    },
    {
      "cell_type": "code",
      "metadata": {
        "id": "2JhcFASXQUVh"
      },
      "source": [
        ""
      ],
      "execution_count": null,
      "outputs": []
    },
    {
      "cell_type": "code",
      "metadata": {
        "id": "VIPpEp0GQUXw"
      },
      "source": [
        ""
      ],
      "execution_count": null,
      "outputs": []
    },
    {
      "cell_type": "code",
      "metadata": {
        "id": "hWOkB2HA3U91"
      },
      "source": [
        "_list_check=[]\n",
        "_list_error=[]\n",
        "_loop=1\n",
        "for i in df_test_a['userid'].unique().tolist():\n",
        "  if i in df_Training_Y['userid'].unique().tolist():\n",
        "    _list_check.append(i)\n",
        "  else:\n",
        "    _list_error.append(i)\n",
        "  print(_loop)\n",
        "  _loop=_loop+1"
      ],
      "execution_count": null,
      "outputs": []
    },
    {
      "cell_type": "code",
      "metadata": {
        "colab": {
          "base_uri": "https://localhost:8080/"
        },
        "id": "cw_Uq4ha5AOg",
        "outputId": "2c9d5bf2-849d-4af5-f03b-8e2370e7f47e"
      },
      "source": [
        "len(df_test_a['userid'].unique().tolist())"
      ],
      "execution_count": null,
      "outputs": [
        {
          "output_type": "execute_result",
          "data": {
            "text/plain": [
              "9757"
            ]
          },
          "metadata": {
            "tags": []
          },
          "execution_count": 39
        }
      ]
    },
    {
      "cell_type": "code",
      "metadata": {
        "colab": {
          "base_uri": "https://localhost:8080/"
        },
        "id": "vU13UfbF3c8f",
        "outputId": "f0d3c0c7-cc22-4147-fd6f-7eccb24d4226"
      },
      "source": [
        "len(_list_check)"
      ],
      "execution_count": null,
      "outputs": [
        {
          "output_type": "execute_result",
          "data": {
            "text/plain": [
              "9757"
            ]
          },
          "metadata": {
            "tags": []
          },
          "execution_count": 40
        }
      ]
    },
    {
      "cell_type": "code",
      "metadata": {
        "colab": {
          "base_uri": "https://localhost:8080/"
        },
        "id": "J0reMRLj49Iw",
        "outputId": "9b1daff6-171e-486a-e45b-e536792a3e26"
      },
      "source": [
        "len(_list_error)"
      ],
      "execution_count": null,
      "outputs": [
        {
          "output_type": "execute_result",
          "data": {
            "text/plain": [
              "0"
            ]
          },
          "metadata": {
            "tags": []
          },
          "execution_count": 41
        }
      ]
    },
    {
      "cell_type": "markdown",
      "metadata": {
        "id": "MTEe6EbrNeOL"
      },
      "source": [
        "## **Build Model**"
      ]
    },
    {
      "cell_type": "code",
      "metadata": {
        "id": "uhmPTn6mNnP7",
        "colab": {
          "base_uri": "https://localhost:8080/"
        },
        "outputId": "8c05f1bc-b17f-4b42-8bab-fb20665c9114"
      },
      "source": [
        ""
      ],
      "execution_count": 40,
      "outputs": [
        {
          "output_type": "stream",
          "text": [
            "Hello\n"
          ],
          "name": "stdout"
        }
      ]
    },
    {
      "cell_type": "code",
      "metadata": {
        "id": "ANcZPiwANnf9"
      },
      "source": [
        ""
      ],
      "execution_count": null,
      "outputs": []
    }
  ]
}