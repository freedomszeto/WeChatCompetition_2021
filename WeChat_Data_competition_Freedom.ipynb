{
  "nbformat": 4,
  "nbformat_minor": 0,
  "metadata": {
    "colab": {
      "name": "WeChat Data competition.ipynb",
      "provenance": [],
      "collapsed_sections": [],
      "toc_visible": true,
      "include_colab_link": true
    },
    "kernelspec": {
      "name": "python3",
      "display_name": "Python 3"
    },
    "language_info": {
      "name": "python"
    }
  },
  "cells": [
    {
      "cell_type": "markdown",
      "metadata": {
        "id": "view-in-github",
        "colab_type": "text"
      },
      "source": [
        "<a href=\"https://colab.research.google.com/github/freedomszeto/WeChatCompetition_2021/blob/main/WeChat_Data_competition_Freedom.ipynb\" target=\"_parent\"><img src=\"https://colab.research.google.com/assets/colab-badge.svg\" alt=\"Open In Colab\"/></a>"
      ]
    },
    {
      "cell_type": "markdown",
      "metadata": {
        "id": "60SdYXAms9_O"
      },
      "source": [
        "# **Import Data**"
      ]
    },
    {
      "cell_type": "code",
      "metadata": {
        "id": "wyuovaLyOR3P"
      },
      "source": [
        "data_path='/content/drive/MyDrive/WeChat_Data_Competition'"
      ],
      "execution_count": 1,
      "outputs": []
    },
    {
      "cell_type": "code",
      "metadata": {
        "id": "pWy_EgZaGqim"
      },
      "source": [
        "from google.colab import drive\n",
        "drive.mount('/content/drive')"
      ],
      "execution_count": null,
      "outputs": []
    },
    {
      "cell_type": "code",
      "metadata": {
        "id": "7yam-DlTKzNc"
      },
      "source": [
        "from os import listdir\n",
        "filenames =listdir(data_path)\n",
        "\n",
        "import numpy as np\n",
        "import pandas as pd\n",
        "\n",
        "for i in np.arange(len(filenames)):\n",
        "    if filenames[i][-3:]=='csv':\n",
        "        vars()[filenames[i][:-4]] = pd.read_csv(data_path+'/'+filenames[i])\n",
        "        print(filenames[i][:-4]+':'+str(len(vars()[filenames[i][:-4]])))\n",
        "    else:\n",
        "        pass"
      ],
      "execution_count": null,
      "outputs": []
    },
    {
      "cell_type": "markdown",
      "metadata": {
        "id": "YRMiQE6iVovg"
      },
      "source": [
        "# **Data screening**"
      ]
    },
    {
      "cell_type": "code",
      "metadata": {
        "id": "vpeGk2PjRf-N"
      },
      "source": [
        "filenames"
      ],
      "execution_count": null,
      "outputs": []
    },
    {
      "cell_type": "code",
      "metadata": {
        "id": "230BDtPSR899"
      },
      "source": [
        "user_action.head(1000)"
      ],
      "execution_count": null,
      "outputs": []
    },
    {
      "cell_type": "code",
      "metadata": {
        "id": "2-RFs-UgUv-0"
      },
      "source": [
        "#Test data (X) -> to predict Y\n",
        "test_a.head(1000)"
      ],
      "execution_count": null,
      "outputs": []
    },
    {
      "cell_type": "code",
      "metadata": {
        "id": "hs6jzFsWUyXx"
      },
      "source": [
        "feed_embeddings.head(1000)"
      ],
      "execution_count": null,
      "outputs": []
    },
    {
      "cell_type": "code",
      "metadata": {
        "id": "xXg7STUtWXhG"
      },
      "source": [
        "feed_info[feed_info['feedid']==46022]"
      ],
      "execution_count": null,
      "outputs": []
    },
    {
      "cell_type": "code",
      "metadata": {
        "id": "l9-qCSCiU2ba"
      },
      "source": [
        "feed_info.head(1000)"
      ],
      "execution_count": null,
      "outputs": []
    },
    {
      "cell_type": "code",
      "metadata": {
        "id": "g4F4BWqgR_oI"
      },
      "source": [
        "submit_demo_初赛a.head(1000)"
      ],
      "execution_count": null,
      "outputs": []
    },
    {
      "cell_type": "markdown",
      "metadata": {
        "id": "UqpBmdcKWmQK"
      },
      "source": [
        "# **Freedom**"
      ]
    },
    {
      "cell_type": "code",
      "metadata": {
        "id": "XvtfaBtlXlQF"
      },
      "source": [
        "feed_em_46022=feed_embeddings[feed_embeddings['feedid']==46022]['feed_embedding']"
      ],
      "execution_count": null,
      "outputs": []
    }
  ]
}